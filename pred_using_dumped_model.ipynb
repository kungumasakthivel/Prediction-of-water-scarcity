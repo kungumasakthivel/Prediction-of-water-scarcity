{
 "cells": [
  {
   "cell_type": "code",
   "execution_count": 1,
   "id": "7e06ab30",
   "metadata": {},
   "outputs": [],
   "source": [
    "import os\n",
    "import numpy as np\n",
    "import pandas as pd\n",
    "from sklearn import linear_model\n",
    "from sklearn.model_selection import train_test_split\n",
    "from sklearn.metrics import mean_squared_error, mean_absolute_error, median_absolute_error, r2_score\n",
    "from math import sqrt\n",
    "from scipy import stats"
   ]
  },
  {
   "cell_type": "code",
   "execution_count": 2,
   "id": "4ad46633",
   "metadata": {},
   "outputs": [],
   "source": [
    "os.chdir('C:\\\\Users\\\\LENOVO\\\\Desktop\\\\VIT hack-a-thon\\\\chennai rainfall')"
   ]
  },
  {
   "cell_type": "code",
   "execution_count": 3,
   "id": "c5109808",
   "metadata": {},
   "outputs": [],
   "source": [
    "import pickle"
   ]
  },
  {
   "cell_type": "code",
   "execution_count": 4,
   "id": "5c7cb72a",
   "metadata": {},
   "outputs": [
    {
     "data": {
      "text/plain": [
       "LinearRegression()"
      ]
     },
     "execution_count": 4,
     "metadata": {},
     "output_type": "execute_result"
    }
   ],
   "source": [
    "filename = 'population_pred_model'\n",
    "linear_model = pickle.load(open(filename, 'rb'))\n",
    "linear_model"
   ]
  },
  {
   "cell_type": "code",
   "execution_count": 5,
   "id": "eed8b720",
   "metadata": {},
   "outputs": [],
   "source": [
    "df = pd.read_csv(\"csvData.csv\")"
   ]
  },
  {
   "cell_type": "code",
   "execution_count": 6,
   "id": "c46513ca",
   "metadata": {},
   "outputs": [
    {
     "data": {
      "text/plain": [
       "(14, 4)"
      ]
     },
     "execution_count": 6,
     "metadata": {},
     "output_type": "execute_result"
    }
   ],
   "source": [
    "data = df[['Year', 'GrowthRate', 'Growth', 'Population']]\n",
    "data.shape"
   ]
  },
  {
   "cell_type": "code",
   "execution_count": 7,
   "id": "c60fd4b9",
   "metadata": {},
   "outputs": [],
   "source": [
    "X = data.loc[:,:'Growth']"
   ]
  },
  {
   "cell_type": "code",
   "execution_count": 8,
   "id": "df0ccee5",
   "metadata": {},
   "outputs": [
    {
     "data": {
      "text/plain": [
       "(14, 3)"
      ]
     },
     "execution_count": 8,
     "metadata": {},
     "output_type": "execute_result"
    }
   ],
   "source": [
    "X.shape"
   ]
  },
  {
   "cell_type": "code",
   "execution_count": 9,
   "id": "1002f0ca",
   "metadata": {},
   "outputs": [],
   "source": [
    "for col in X.columns:\n",
    "    X[col].fillna(X[col].median(), inplace=True)"
   ]
  },
  {
   "cell_type": "code",
   "execution_count": 10,
   "id": "e9ce49ce",
   "metadata": {},
   "outputs": [
    {
     "data": {
      "text/plain": [
       "Year          0\n",
       "GrowthRate    0\n",
       "Growth        0\n",
       "dtype: int64"
      ]
     },
     "execution_count": 10,
     "metadata": {},
     "output_type": "execute_result"
    }
   ],
   "source": [
    "X.isna().sum()"
   ]
  },
  {
   "cell_type": "code",
   "execution_count": 11,
   "id": "a72ca546",
   "metadata": {},
   "outputs": [],
   "source": [
    "prediction = linear_model.predict(X)"
   ]
  },
  {
   "cell_type": "code",
   "execution_count": 12,
   "id": "d6333993",
   "metadata": {},
   "outputs": [
    {
     "data": {
      "text/plain": [
       "array([563598.38183337, 560493.82623629, 556239.54683143, 550278.70835883,\n",
       "       542905.7525248 , 533143.21362771, 520137.81227898, 502499.46405869,\n",
       "       479649.30095909, 450786.12177914, 416226.40097291, 376995.67632573,\n",
       "       335345.32366004, 294055.51171887])"
      ]
     },
     "execution_count": 12,
     "metadata": {},
     "output_type": "execute_result"
    }
   ],
   "source": [
    "prediction"
   ]
  },
  {
   "cell_type": "code",
   "execution_count": 13,
   "id": "15597c33",
   "metadata": {},
   "outputs": [
    {
     "data": {
      "text/plain": [
       "array([563598.38, 560493.83, 556239.55, 550278.71, 542905.75, 533143.21,\n",
       "       520137.81, 502499.46, 479649.3 , 450786.12])"
      ]
     },
     "execution_count": 13,
     "metadata": {},
     "output_type": "execute_result"
    }
   ],
   "source": [
    "prediction[:10].round(2)"
   ]
  },
  {
   "cell_type": "code",
   "execution_count": 14,
   "id": "1489e3d2",
   "metadata": {},
   "outputs": [
    {
     "data": {
      "text/plain": [
       "0    562956\n",
       "1    559856\n",
       "2    555608\n",
       "3    549656\n",
       "4    542294\n",
       "5    532546\n",
       "6    519560\n",
       "7    501948\n",
       "8    479132\n",
       "9    450312\n",
       "Name: Growth, dtype: int64"
      ]
     },
     "execution_count": 14,
     "metadata": {},
     "output_type": "execute_result"
    }
   ],
   "source": [
    "data['Growth'][:10]"
   ]
  },
  {
   "cell_type": "code",
   "execution_count": 15,
   "id": "492691a4",
   "metadata": {},
   "outputs": [
    {
     "data": {
      "text/plain": [
       "14"
      ]
     },
     "execution_count": 15,
     "metadata": {},
     "output_type": "execute_result"
    }
   ],
   "source": [
    "len(X)"
   ]
  },
  {
   "cell_type": "code",
   "execution_count": 16,
   "id": "8d29be17",
   "metadata": {},
   "outputs": [
    {
     "data": {
      "text/plain": [
       "14"
      ]
     },
     "execution_count": 16,
     "metadata": {},
     "output_type": "execute_result"
    }
   ],
   "source": [
    "len(prediction)"
   ]
  },
  {
   "cell_type": "code",
   "execution_count": 17,
   "id": "417baba7",
   "metadata": {},
   "outputs": [
    {
     "data": {
      "text/html": [
       "<div>\n",
       "<style scoped>\n",
       "    .dataframe tbody tr th:only-of-type {\n",
       "        vertical-align: middle;\n",
       "    }\n",
       "\n",
       "    .dataframe tbody tr th {\n",
       "        vertical-align: top;\n",
       "    }\n",
       "\n",
       "    .dataframe thead th {\n",
       "        text-align: right;\n",
       "    }\n",
       "</style>\n",
       "<table border=\"1\" class=\"dataframe\">\n",
       "  <thead>\n",
       "    <tr style=\"text-align: right;\">\n",
       "      <th></th>\n",
       "      <th>Year</th>\n",
       "      <th>Population</th>\n",
       "      <th>GrowthRate</th>\n",
       "      <th>Growth</th>\n",
       "    </tr>\n",
       "  </thead>\n",
       "  <tbody>\n",
       "    <tr>\n",
       "      <th>0</th>\n",
       "      <td>2035</td>\n",
       "      <td>27342820</td>\n",
       "      <td>0.021</td>\n",
       "      <td>562956</td>\n",
       "    </tr>\n",
       "  </tbody>\n",
       "</table>\n",
       "</div>"
      ],
      "text/plain": [
       "   Year  Population  GrowthRate  Growth\n",
       "0  2035    27342820       0.021  562956"
      ]
     },
     "execution_count": 17,
     "metadata": {},
     "output_type": "execute_result"
    }
   ],
   "source": [
    "df.head(1)"
   ]
  },
  {
   "cell_type": "code",
   "execution_count": 18,
   "id": "7524e207",
   "metadata": {},
   "outputs": [],
   "source": [
    "df = df.drop(labels='Growth', axis=1)"
   ]
  },
  {
   "cell_type": "code",
   "execution_count": 19,
   "id": "93b0ef6f",
   "metadata": {},
   "outputs": [],
   "source": [
    "df['Predicted Growth'] = prediction.round(2)"
   ]
  },
  {
   "cell_type": "code",
   "execution_count": 20,
   "id": "613a6af7",
   "metadata": {},
   "outputs": [
    {
     "data": {
      "text/html": [
       "<div>\n",
       "<style scoped>\n",
       "    .dataframe tbody tr th:only-of-type {\n",
       "        vertical-align: middle;\n",
       "    }\n",
       "\n",
       "    .dataframe tbody tr th {\n",
       "        vertical-align: top;\n",
       "    }\n",
       "\n",
       "    .dataframe thead th {\n",
       "        text-align: right;\n",
       "    }\n",
       "</style>\n",
       "<table border=\"1\" class=\"dataframe\">\n",
       "  <thead>\n",
       "    <tr style=\"text-align: right;\">\n",
       "      <th></th>\n",
       "      <th>Year</th>\n",
       "      <th>Population</th>\n",
       "      <th>GrowthRate</th>\n",
       "      <th>Predicted Growth</th>\n",
       "    </tr>\n",
       "  </thead>\n",
       "  <tbody>\n",
       "    <tr>\n",
       "      <th>0</th>\n",
       "      <td>2035</td>\n",
       "      <td>27342820</td>\n",
       "      <td>0.0210</td>\n",
       "      <td>563598.38</td>\n",
       "    </tr>\n",
       "    <tr>\n",
       "      <th>1</th>\n",
       "      <td>2034</td>\n",
       "      <td>26779864</td>\n",
       "      <td>0.0214</td>\n",
       "      <td>560493.83</td>\n",
       "    </tr>\n",
       "    <tr>\n",
       "      <th>2</th>\n",
       "      <td>2033</td>\n",
       "      <td>26220008</td>\n",
       "      <td>0.0216</td>\n",
       "      <td>556239.55</td>\n",
       "    </tr>\n",
       "    <tr>\n",
       "      <th>3</th>\n",
       "      <td>2032</td>\n",
       "      <td>25664400</td>\n",
       "      <td>0.0219</td>\n",
       "      <td>550278.71</td>\n",
       "    </tr>\n",
       "    <tr>\n",
       "      <th>4</th>\n",
       "      <td>2031</td>\n",
       "      <td>25114744</td>\n",
       "      <td>0.0221</td>\n",
       "      <td>542905.75</td>\n",
       "    </tr>\n",
       "    <tr>\n",
       "      <th>5</th>\n",
       "      <td>2030</td>\n",
       "      <td>24572450</td>\n",
       "      <td>0.0222</td>\n",
       "      <td>533143.21</td>\n",
       "    </tr>\n",
       "    <tr>\n",
       "      <th>6</th>\n",
       "      <td>2029</td>\n",
       "      <td>24039904</td>\n",
       "      <td>0.0221</td>\n",
       "      <td>520137.81</td>\n",
       "    </tr>\n",
       "    <tr>\n",
       "      <th>7</th>\n",
       "      <td>2028</td>\n",
       "      <td>23520344</td>\n",
       "      <td>0.0218</td>\n",
       "      <td>502499.46</td>\n",
       "    </tr>\n",
       "    <tr>\n",
       "      <th>8</th>\n",
       "      <td>2027</td>\n",
       "      <td>23018396</td>\n",
       "      <td>0.0213</td>\n",
       "      <td>479649.30</td>\n",
       "    </tr>\n",
       "    <tr>\n",
       "      <th>9</th>\n",
       "      <td>2026</td>\n",
       "      <td>22539264</td>\n",
       "      <td>0.0204</td>\n",
       "      <td>450786.12</td>\n",
       "    </tr>\n",
       "    <tr>\n",
       "      <th>10</th>\n",
       "      <td>2025</td>\n",
       "      <td>22088952</td>\n",
       "      <td>0.0192</td>\n",
       "      <td>416226.40</td>\n",
       "    </tr>\n",
       "    <tr>\n",
       "      <th>11</th>\n",
       "      <td>2024</td>\n",
       "      <td>21673148</td>\n",
       "      <td>0.0177</td>\n",
       "      <td>376995.68</td>\n",
       "    </tr>\n",
       "    <tr>\n",
       "      <th>12</th>\n",
       "      <td>2023</td>\n",
       "      <td>21296516</td>\n",
       "      <td>0.0160</td>\n",
       "      <td>335345.32</td>\n",
       "    </tr>\n",
       "    <tr>\n",
       "      <th>13</th>\n",
       "      <td>2022</td>\n",
       "      <td>20961472</td>\n",
       "      <td>0.0142</td>\n",
       "      <td>294055.51</td>\n",
       "    </tr>\n",
       "  </tbody>\n",
       "</table>\n",
       "</div>"
      ],
      "text/plain": [
       "    Year  Population  GrowthRate  Predicted Growth\n",
       "0   2035    27342820      0.0210         563598.38\n",
       "1   2034    26779864      0.0214         560493.83\n",
       "2   2033    26220008      0.0216         556239.55\n",
       "3   2032    25664400      0.0219         550278.71\n",
       "4   2031    25114744      0.0221         542905.75\n",
       "5   2030    24572450      0.0222         533143.21\n",
       "6   2029    24039904      0.0221         520137.81\n",
       "7   2028    23520344      0.0218         502499.46\n",
       "8   2027    23018396      0.0213         479649.30\n",
       "9   2026    22539264      0.0204         450786.12\n",
       "10  2025    22088952      0.0192         416226.40\n",
       "11  2024    21673148      0.0177         376995.68\n",
       "12  2023    21296516      0.0160         335345.32\n",
       "13  2022    20961472      0.0142         294055.51"
      ]
     },
     "execution_count": 20,
     "metadata": {},
     "output_type": "execute_result"
    }
   ],
   "source": [
    "df"
   ]
  },
  {
   "cell_type": "code",
   "execution_count": 21,
   "id": "5ff3ac0f",
   "metadata": {},
   "outputs": [],
   "source": [
    "import seaborn as sns"
   ]
  },
  {
   "cell_type": "code",
   "execution_count": 29,
   "id": "fa7134fc",
   "metadata": {},
   "outputs": [
    {
     "data": {
      "text/plain": [
       "<AxesSubplot:xlabel='Predicted Growth', ylabel='Year'>"
      ]
     },
     "execution_count": 29,
     "metadata": {},
     "output_type": "execute_result"
    },
    {
     "data": {
      "image/png": "[encoded data removed]",
      "text/plain": [
       "<Figure size 432x288 with 1 Axes>"
      ]
     },
     "metadata": {
      "needs_background": "light"
     },
     "output_type": "display_data"
    }
   ],
   "source": [
    "sns.histplot(x=df['Predicted Growth'],y=df['Year'], bins=10)"
   ]
  },
  {
   "cell_type": "code",
   "execution_count": null,
   "id": "46ad185e",
   "metadata": {},
   "outputs": [],
   "source": []
  }
 ],
 "metadata": {
  "kernelspec": {
   "display_name": "Python 3",
   "language": "python",
   "name": "python3"
  },
  "language_info": {
   "codemirror_mode": {
    "name": "ipython",
    "version": 3
   },
   "file_extension": ".py",
   "mimetype": "text/x-python",
   "name": "python",
   "nbconvert_exporter": "python",
   "pygments_lexer": "ipython3",
   "version": "3.8.8"
  }
 },
 "nbformat": 4,
 "nbformat_minor": 5
}
