{
 "cells": [
  {
   "cell_type": "code",
   "execution_count": 1,
   "id": "a1de4e8d",
   "metadata": {},
   "outputs": [],
   "source": [
    "import os\n",
    "import pandas as pd\n",
    "import numpy as np\n",
    "import seaborn as sns"
   ]
  },
  {
   "cell_type": "code",
   "execution_count": 2,
   "id": "2d86c3d3",
   "metadata": {},
   "outputs": [],
   "source": [
    "os.chdir('C:\\\\Users\\\\LENOVO\\\\Desktop\\\\VIT hack-a-thon\\\\chennai rainfall')"
   ]
  },
  {
   "cell_type": "code",
   "execution_count": 3,
   "id": "10ad7d67",
   "metadata": {},
   "outputs": [],
   "source": [
    "data_set = pd.read_csv('chennai_reservoir_levels.csv',parse_dates=['Date'], dayfirst=True)"
   ]
  },
  {
   "cell_type": "code",
   "execution_count": 4,
   "id": "be793eac",
   "metadata": {},
   "outputs": [],
   "source": [
    "df = data_set.copy()"
   ]
  },
  {
   "cell_type": "code",
   "execution_count": 5,
   "id": "9f827056",
   "metadata": {},
   "outputs": [
    {
     "data": {
      "text/html": [
       "<div>\n",
       "<style scoped>\n",
       "    .dataframe tbody tr th:only-of-type {\n",
       "        vertical-align: middle;\n",
       "    }\n",
       "\n",
       "    .dataframe tbody tr th {\n",
       "        vertical-align: top;\n",
       "    }\n",
       "\n",
       "    .dataframe thead th {\n",
       "        text-align: right;\n",
       "    }\n",
       "</style>\n",
       "<table border=\"1\" class=\"dataframe\">\n",
       "  <thead>\n",
       "    <tr style=\"text-align: right;\">\n",
       "      <th></th>\n",
       "      <th>Date</th>\n",
       "      <th>POONDI</th>\n",
       "      <th>CHOLAVARAM</th>\n",
       "      <th>REDHILLS</th>\n",
       "      <th>CHEMBARAMBAKKAM</th>\n",
       "    </tr>\n",
       "  </thead>\n",
       "  <tbody>\n",
       "    <tr>\n",
       "      <th>0</th>\n",
       "      <td>2004-01-01</td>\n",
       "      <td>3.9</td>\n",
       "      <td>0.0</td>\n",
       "      <td>268.0</td>\n",
       "      <td>0.0</td>\n",
       "    </tr>\n",
       "    <tr>\n",
       "      <th>1</th>\n",
       "      <td>2004-01-02</td>\n",
       "      <td>3.9</td>\n",
       "      <td>0.0</td>\n",
       "      <td>268.0</td>\n",
       "      <td>0.0</td>\n",
       "    </tr>\n",
       "    <tr>\n",
       "      <th>2</th>\n",
       "      <td>2004-01-03</td>\n",
       "      <td>3.9</td>\n",
       "      <td>0.0</td>\n",
       "      <td>267.0</td>\n",
       "      <td>0.0</td>\n",
       "    </tr>\n",
       "    <tr>\n",
       "      <th>3</th>\n",
       "      <td>2004-01-04</td>\n",
       "      <td>3.9</td>\n",
       "      <td>0.0</td>\n",
       "      <td>267.0</td>\n",
       "      <td>0.0</td>\n",
       "    </tr>\n",
       "    <tr>\n",
       "      <th>4</th>\n",
       "      <td>2004-01-05</td>\n",
       "      <td>3.8</td>\n",
       "      <td>0.0</td>\n",
       "      <td>267.0</td>\n",
       "      <td>0.0</td>\n",
       "    </tr>\n",
       "  </tbody>\n",
       "</table>\n",
       "</div>"
      ],
      "text/plain": [
       "        Date  POONDI  CHOLAVARAM  REDHILLS  CHEMBARAMBAKKAM\n",
       "0 2004-01-01     3.9         0.0     268.0              0.0\n",
       "1 2004-01-02     3.9         0.0     268.0              0.0\n",
       "2 2004-01-03     3.9         0.0     267.0              0.0\n",
       "3 2004-01-04     3.9         0.0     267.0              0.0\n",
       "4 2004-01-05     3.8         0.0     267.0              0.0"
      ]
     },
     "execution_count": 5,
     "metadata": {},
     "output_type": "execute_result"
    }
   ],
   "source": [
    "df.head()"
   ]
  },
  {
   "cell_type": "code",
   "execution_count": 6,
   "id": "a135c69c",
   "metadata": {},
   "outputs": [
    {
     "data": {
      "text/plain": [
       "Date               datetime64[ns]\n",
       "POONDI                    float64\n",
       "CHOLAVARAM                float64\n",
       "REDHILLS                  float64\n",
       "CHEMBARAMBAKKAM           float64\n",
       "dtype: object"
      ]
     },
     "execution_count": 6,
     "metadata": {},
     "output_type": "execute_result"
    }
   ],
   "source": [
    "df.dtypes"
   ]
  },
  {
   "cell_type": "code",
   "execution_count": 7,
   "id": "3afe1837",
   "metadata": {},
   "outputs": [
    {
     "data": {
      "text/plain": [
       "Date               0\n",
       "POONDI             0\n",
       "CHOLAVARAM         0\n",
       "REDHILLS           0\n",
       "CHEMBARAMBAKKAM    0\n",
       "dtype: int64"
      ]
     },
     "execution_count": 7,
     "metadata": {},
     "output_type": "execute_result"
    }
   ],
   "source": [
    "df.isna().sum()"
   ]
  },
  {
   "cell_type": "code",
   "execution_count": 8,
   "id": "e8e3971a",
   "metadata": {},
   "outputs": [
    {
     "data": {
      "text/html": [
       "<div>\n",
       "<style scoped>\n",
       "    .dataframe tbody tr th:only-of-type {\n",
       "        vertical-align: middle;\n",
       "    }\n",
       "\n",
       "    .dataframe tbody tr th {\n",
       "        vertical-align: top;\n",
       "    }\n",
       "\n",
       "    .dataframe thead th {\n",
       "        text-align: right;\n",
       "    }\n",
       "</style>\n",
       "<table border=\"1\" class=\"dataframe\">\n",
       "  <thead>\n",
       "    <tr style=\"text-align: right;\">\n",
       "      <th></th>\n",
       "      <th>POONDI</th>\n",
       "      <th>CHOLAVARAM</th>\n",
       "      <th>REDHILLS</th>\n",
       "      <th>CHEMBARAMBAKKAM</th>\n",
       "    </tr>\n",
       "  </thead>\n",
       "  <tbody>\n",
       "    <tr>\n",
       "      <th>0</th>\n",
       "      <td>3.9</td>\n",
       "      <td>0.0</td>\n",
       "      <td>268.0</td>\n",
       "      <td>0.0</td>\n",
       "    </tr>\n",
       "    <tr>\n",
       "      <th>1</th>\n",
       "      <td>3.9</td>\n",
       "      <td>0.0</td>\n",
       "      <td>268.0</td>\n",
       "      <td>0.0</td>\n",
       "    </tr>\n",
       "    <tr>\n",
       "      <th>2</th>\n",
       "      <td>3.9</td>\n",
       "      <td>0.0</td>\n",
       "      <td>267.0</td>\n",
       "      <td>0.0</td>\n",
       "    </tr>\n",
       "    <tr>\n",
       "      <th>3</th>\n",
       "      <td>3.9</td>\n",
       "      <td>0.0</td>\n",
       "      <td>267.0</td>\n",
       "      <td>0.0</td>\n",
       "    </tr>\n",
       "    <tr>\n",
       "      <th>4</th>\n",
       "      <td>3.8</td>\n",
       "      <td>0.0</td>\n",
       "      <td>267.0</td>\n",
       "      <td>0.0</td>\n",
       "    </tr>\n",
       "    <tr>\n",
       "      <th>...</th>\n",
       "      <td>...</td>\n",
       "      <td>...</td>\n",
       "      <td>...</td>\n",
       "      <td>...</td>\n",
       "    </tr>\n",
       "    <tr>\n",
       "      <th>6177</th>\n",
       "      <td>2814.0</td>\n",
       "      <td>403.0</td>\n",
       "      <td>2819.0</td>\n",
       "      <td>3120.0</td>\n",
       "    </tr>\n",
       "    <tr>\n",
       "      <th>6178</th>\n",
       "      <td>2848.0</td>\n",
       "      <td>465.0</td>\n",
       "      <td>2833.0</td>\n",
       "      <td>3120.0</td>\n",
       "    </tr>\n",
       "    <tr>\n",
       "      <th>6179</th>\n",
       "      <td>2902.0</td>\n",
       "      <td>504.0</td>\n",
       "      <td>2841.0</td>\n",
       "      <td>3123.0</td>\n",
       "    </tr>\n",
       "    <tr>\n",
       "      <th>6180</th>\n",
       "      <td>2873.0</td>\n",
       "      <td>547.0</td>\n",
       "      <td>2847.0</td>\n",
       "      <td>3125.0</td>\n",
       "    </tr>\n",
       "    <tr>\n",
       "      <th>6181</th>\n",
       "      <td>2867.0</td>\n",
       "      <td>590.0</td>\n",
       "      <td>2878.0</td>\n",
       "      <td>3137.0</td>\n",
       "    </tr>\n",
       "  </tbody>\n",
       "</table>\n",
       "<p>6182 rows × 4 columns</p>\n",
       "</div>"
      ],
      "text/plain": [
       "      POONDI  CHOLAVARAM  REDHILLS  CHEMBARAMBAKKAM\n",
       "0        3.9         0.0     268.0              0.0\n",
       "1        3.9         0.0     268.0              0.0\n",
       "2        3.9         0.0     267.0              0.0\n",
       "3        3.9         0.0     267.0              0.0\n",
       "4        3.8         0.0     267.0              0.0\n",
       "...      ...         ...       ...              ...\n",
       "6177  2814.0       403.0    2819.0           3120.0\n",
       "6178  2848.0       465.0    2833.0           3120.0\n",
       "6179  2902.0       504.0    2841.0           3123.0\n",
       "6180  2873.0       547.0    2847.0           3125.0\n",
       "6181  2867.0       590.0    2878.0           3137.0\n",
       "\n",
       "[6182 rows x 4 columns]"
      ]
     },
     "execution_count": 8,
     "metadata": {},
     "output_type": "execute_result"
    }
   ],
   "source": [
    "data = df[['POONDI', 'CHOLAVARAM', 'REDHILLS', 'CHEMBARAMBAKKAM']]\n",
    "data"
   ]
  },
  {
   "cell_type": "code",
   "execution_count": 9,
   "id": "aa42e5b4",
   "metadata": {},
   "outputs": [
    {
     "data": {
      "text/html": [
       "<div>\n",
       "<style scoped>\n",
       "    .dataframe tbody tr th:only-of-type {\n",
       "        vertical-align: middle;\n",
       "    }\n",
       "\n",
       "    .dataframe tbody tr th {\n",
       "        vertical-align: top;\n",
       "    }\n",
       "\n",
       "    .dataframe thead th {\n",
       "        text-align: right;\n",
       "    }\n",
       "</style>\n",
       "<table border=\"1\" class=\"dataframe\">\n",
       "  <thead>\n",
       "    <tr style=\"text-align: right;\">\n",
       "      <th></th>\n",
       "      <th>POONDI</th>\n",
       "      <th>CHOLAVARAM</th>\n",
       "      <th>REDHILLS</th>\n",
       "      <th>CHEMBARAMBAKKAM</th>\n",
       "      <th>TOTAL CAPACITY</th>\n",
       "    </tr>\n",
       "  </thead>\n",
       "  <tbody>\n",
       "    <tr>\n",
       "      <th>0</th>\n",
       "      <td>3.9</td>\n",
       "      <td>0.0</td>\n",
       "      <td>268.0</td>\n",
       "      <td>0.0</td>\n",
       "      <td>271.9</td>\n",
       "    </tr>\n",
       "    <tr>\n",
       "      <th>1</th>\n",
       "      <td>3.9</td>\n",
       "      <td>0.0</td>\n",
       "      <td>268.0</td>\n",
       "      <td>0.0</td>\n",
       "      <td>271.9</td>\n",
       "    </tr>\n",
       "    <tr>\n",
       "      <th>2</th>\n",
       "      <td>3.9</td>\n",
       "      <td>0.0</td>\n",
       "      <td>267.0</td>\n",
       "      <td>0.0</td>\n",
       "      <td>270.9</td>\n",
       "    </tr>\n",
       "    <tr>\n",
       "      <th>3</th>\n",
       "      <td>3.9</td>\n",
       "      <td>0.0</td>\n",
       "      <td>267.0</td>\n",
       "      <td>0.0</td>\n",
       "      <td>270.9</td>\n",
       "    </tr>\n",
       "    <tr>\n",
       "      <th>4</th>\n",
       "      <td>3.8</td>\n",
       "      <td>0.0</td>\n",
       "      <td>267.0</td>\n",
       "      <td>0.0</td>\n",
       "      <td>270.8</td>\n",
       "    </tr>\n",
       "  </tbody>\n",
       "</table>\n",
       "</div>"
      ],
      "text/plain": [
       "   POONDI  CHOLAVARAM  REDHILLS  CHEMBARAMBAKKAM  TOTAL CAPACITY\n",
       "0     3.9         0.0     268.0              0.0           271.9\n",
       "1     3.9         0.0     268.0              0.0           271.9\n",
       "2     3.9         0.0     267.0              0.0           270.9\n",
       "3     3.9         0.0     267.0              0.0           270.9\n",
       "4     3.8         0.0     267.0              0.0           270.8"
      ]
     },
     "execution_count": 9,
     "metadata": {},
     "output_type": "execute_result"
    }
   ],
   "source": [
    "data['TOTAL CAPACITY'] = df['POONDI']+df['CHOLAVARAM']+df['REDHILLS']+df['CHEMBARAMBAKKAM']\n",
    "data.head()"
   ]
  },
  {
   "cell_type": "code",
   "execution_count": 10,
   "id": "686d53ea",
   "metadata": {},
   "outputs": [
    {
     "data": {
      "text/plain": [
       "<AxesSubplot:>"
      ]
     },
     "execution_count": 10,
     "metadata": {},
     "output_type": "execute_result"
    },
    {
     "data": {
      "image/png": "[encoded data removed]",
      "text/plain": [
       "<Figure size 432x288 with 2 Axes>"
      ]
     },
     "metadata": {
      "needs_background": "light"
     },
     "output_type": "display_data"
    }
   ],
   "source": [
    "sns.heatmap(df.corr(), annot=True)"
   ]
  },
  {
   "cell_type": "code",
   "execution_count": 11,
   "id": "bb0de250",
   "metadata": {},
   "outputs": [
    {
     "data": {
      "text/plain": [
       "<AxesSubplot:>"
      ]
     },
     "execution_count": 11,
     "metadata": {},
     "output_type": "execute_result"
    },
    {
     "data": {
      "image/png": "[encoded data removed]",
      "text/plain": [
       "<Figure size 432x288 with 2 Axes>"
      ]
     },
     "metadata": {
      "needs_background": "light"
     },
     "output_type": "display_data"
    }
   ],
   "source": [
    "sns.heatmap(data.corr(), annot=True)"
   ]
  },
  {
   "cell_type": "code",
   "execution_count": 12,
   "id": "bc0d2759",
   "metadata": {},
   "outputs": [],
   "source": [
    "data['CHEMBARAMBAKKAM'] = data['CHEMBARAMBAKKAM'].astype(np.int64)"
   ]
  },
  {
   "cell_type": "code",
   "execution_count": 13,
   "id": "8a1a35d9",
   "metadata": {},
   "outputs": [],
   "source": [
    "data['CHOLAVARAM'] = data['CHOLAVARAM'].astype(np.int64)"
   ]
  },
  {
   "cell_type": "code",
   "execution_count": 14,
   "id": "8c7a8228",
   "metadata": {},
   "outputs": [],
   "source": [
    "data['POONDI'] = data['POONDI'].astype(np.int64)"
   ]
  },
  {
   "cell_type": "code",
   "execution_count": 15,
   "id": "4f146d9d",
   "metadata": {},
   "outputs": [],
   "source": [
    "data['REDHILLS'] = data['REDHILLS'].astype(np.int64)"
   ]
  },
  {
   "cell_type": "code",
   "execution_count": 16,
   "id": "4c06d8ab",
   "metadata": {},
   "outputs": [
    {
     "data": {
      "text/plain": [
       "0          0\n",
       "288        0\n",
       "287        0\n",
       "286        0\n",
       "285        0\n",
       "        ... \n",
       "4368    3215\n",
       "4344    3223\n",
       "4345    3223\n",
       "4341    3268\n",
       "4353    3396\n",
       "Name: CHEMBARAMBAKKAM, Length: 6182, dtype: int64"
      ]
     },
     "execution_count": 16,
     "metadata": {},
     "output_type": "execute_result"
    }
   ],
   "source": [
    "data['CHEMBARAMBAKKAM'].sort_values()"
   ]
  },
  {
   "cell_type": "code",
   "execution_count": 17,
   "id": "02e6c71a",
   "metadata": {},
   "outputs": [],
   "source": [
    "data['CHEMBARAMBAKKAM'] = data['CHEMBARAMBAKKAM'].replace(0, 1)"
   ]
  },
  {
   "cell_type": "code",
   "execution_count": 18,
   "id": "e67483b7",
   "metadata": {},
   "outputs": [],
   "source": [
    "data['CHOLAVARAM'] = data['CHOLAVARAM'].replace(0, 1)"
   ]
  },
  {
   "cell_type": "code",
   "execution_count": 19,
   "id": "0402d96b",
   "metadata": {},
   "outputs": [],
   "source": [
    "data['TOTAL CAPACITY'] = data['TOTAL CAPACITY'].astype(np.int64)"
   ]
  },
  {
   "cell_type": "code",
   "execution_count": 20,
   "id": "654a0f2c",
   "metadata": {},
   "outputs": [],
   "source": [
    "data['POONDI'] = data['POONDI'].replace(0, 1)"
   ]
  },
  {
   "cell_type": "code",
   "execution_count": 21,
   "id": "3d6b8aea",
   "metadata": {},
   "outputs": [],
   "source": [
    "data['REDHILLS'] = data['REDHILLS'].replace(0, 1)"
   ]
  },
  {
   "cell_type": "code",
   "execution_count": 22,
   "id": "5c05dde7",
   "metadata": {},
   "outputs": [],
   "source": [
    "X = data.drop(['TOTAL CAPACITY'], axis='columns', inplace=False)\n",
    "Y = data['TOTAL CAPACITY']"
   ]
  },
  {
   "cell_type": "code",
   "execution_count": 23,
   "id": "43d4ea90",
   "metadata": {},
   "outputs": [
    {
     "data": {
      "text/plain": [
       "((6182, 4), (6182,))"
      ]
     },
     "execution_count": 23,
     "metadata": {},
     "output_type": "execute_result"
    }
   ],
   "source": [
    "X.shape, Y.shape"
   ]
  },
  {
   "cell_type": "code",
   "execution_count": 24,
   "id": "99bc8df4",
   "metadata": {},
   "outputs": [],
   "source": [
    "from sklearn.model_selection import train_test_split"
   ]
  },
  {
   "cell_type": "code",
   "execution_count": 25,
   "id": "c6b6e398",
   "metadata": {},
   "outputs": [],
   "source": [
    "X_train, X_test, y_train, y_test = train_test_split(X, Y, test_size=0.3, random_state=100)"
   ]
  },
  {
   "cell_type": "code",
   "execution_count": 26,
   "id": "eb7eeb6d",
   "metadata": {},
   "outputs": [],
   "source": [
    "from sklearn import linear_model"
   ]
  },
  {
   "cell_type": "code",
   "execution_count": 27,
   "id": "25c70613",
   "metadata": {},
   "outputs": [],
   "source": [
    "lm = linear_model.LinearRegression()\n",
    "model = lm.fit(X_train, y_train)"
   ]
  },
  {
   "cell_type": "code",
   "execution_count": 28,
   "id": "e8cb3a02",
   "metadata": {},
   "outputs": [
    {
     "data": {
      "text/plain": [
       "array([1.00003624, 0.99964636, 1.00038567, 1.00008111])"
      ]
     },
     "execution_count": 28,
     "metadata": {},
     "output_type": "execute_result"
    }
   ],
   "source": [
    "lm.coef_"
   ]
  },
  {
   "cell_type": "code",
   "execution_count": 29,
   "id": "41b1b36b",
   "metadata": {},
   "outputs": [
    {
     "data": {
      "text/plain": [
       "-0.9606588689102864"
      ]
     },
     "execution_count": 29,
     "metadata": {},
     "output_type": "execute_result"
    }
   ],
   "source": [
    "lm.intercept_"
   ]
  },
  {
   "cell_type": "code",
   "execution_count": 30,
   "id": "247edd43",
   "metadata": {},
   "outputs": [],
   "source": [
    "y_fit = lm.predict(X_train)"
   ]
  },
  {
   "cell_type": "code",
   "execution_count": 31,
   "id": "2e0b063e",
   "metadata": {},
   "outputs": [],
   "source": [
    "from sklearn.metrics import mean_squared_error, mean_absolute_error, median_absolute_error, r2_score"
   ]
  },
  {
   "cell_type": "code",
   "execution_count": 32,
   "id": "1b7c4a34",
   "metadata": {},
   "outputs": [
    {
     "data": {
      "text/plain": [
       "0.9999999659399244"
      ]
     },
     "execution_count": 32,
     "metadata": {},
     "output_type": "execute_result"
    }
   ],
   "source": [
    "r2_train = r2_score(y_train, y_fit)\n",
    "r2_train"
   ]
  },
  {
   "cell_type": "code",
   "execution_count": 33,
   "id": "4ba19616",
   "metadata": {},
   "outputs": [],
   "source": [
    "y_pred_all = lm.predict(X)"
   ]
  },
  {
   "cell_type": "code",
   "execution_count": 34,
   "id": "bcff6b2a",
   "metadata": {},
   "outputs": [
    {
     "data": {
      "text/plain": [
       "0    271\n",
       "1    271\n",
       "2    270\n",
       "3    270\n",
       "4    270\n",
       "5    269\n",
       "6    269\n",
       "7    268\n",
       "8    267\n",
       "9    267\n",
       "Name: TOTAL CAPACITY, dtype: int64"
      ]
     },
     "execution_count": 34,
     "metadata": {},
     "output_type": "execute_result"
    }
   ],
   "source": [
    "Y[:10]"
   ]
  },
  {
   "cell_type": "code",
   "execution_count": 35,
   "id": "c37bc390",
   "metadata": {},
   "outputs": [
    {
     "data": {
      "text/plain": [
       "array([272.14253591, 272.14253591, 271.14215024, 271.14215024,\n",
       "       271.14215024, 270.14176457, 270.14176457, 269.14137891,\n",
       "       268.14099324, 268.14099324])"
      ]
     },
     "execution_count": 35,
     "metadata": {},
     "output_type": "execute_result"
    }
   ],
   "source": [
    "y_pred_all[:10]"
   ]
  },
  {
   "cell_type": "code",
   "execution_count": 36,
   "id": "d01073e6",
   "metadata": {},
   "outputs": [
    {
     "data": {
      "text/html": [
       "<div>\n",
       "<style scoped>\n",
       "    .dataframe tbody tr th:only-of-type {\n",
       "        vertical-align: middle;\n",
       "    }\n",
       "\n",
       "    .dataframe tbody tr th {\n",
       "        vertical-align: top;\n",
       "    }\n",
       "\n",
       "    .dataframe thead th {\n",
       "        text-align: right;\n",
       "    }\n",
       "</style>\n",
       "<table border=\"1\" class=\"dataframe\">\n",
       "  <thead>\n",
       "    <tr style=\"text-align: right;\">\n",
       "      <th></th>\n",
       "      <th>Date</th>\n",
       "      <th>POONDI</th>\n",
       "      <th>CHOLAVARAM</th>\n",
       "      <th>REDHILLS</th>\n",
       "      <th>CHEMBARAMBAKKAM</th>\n",
       "      <th>CAPACITY PREDICTION</th>\n",
       "    </tr>\n",
       "  </thead>\n",
       "  <tbody>\n",
       "    <tr>\n",
       "      <th>0</th>\n",
       "      <td>2004-01-01</td>\n",
       "      <td>3.9</td>\n",
       "      <td>0.0</td>\n",
       "      <td>268.0</td>\n",
       "      <td>0.0</td>\n",
       "      <td>272.142536</td>\n",
       "    </tr>\n",
       "    <tr>\n",
       "      <th>1</th>\n",
       "      <td>2004-01-02</td>\n",
       "      <td>3.9</td>\n",
       "      <td>0.0</td>\n",
       "      <td>268.0</td>\n",
       "      <td>0.0</td>\n",
       "      <td>272.142536</td>\n",
       "    </tr>\n",
       "    <tr>\n",
       "      <th>2</th>\n",
       "      <td>2004-01-03</td>\n",
       "      <td>3.9</td>\n",
       "      <td>0.0</td>\n",
       "      <td>267.0</td>\n",
       "      <td>0.0</td>\n",
       "      <td>271.142150</td>\n",
       "    </tr>\n",
       "    <tr>\n",
       "      <th>3</th>\n",
       "      <td>2004-01-04</td>\n",
       "      <td>3.9</td>\n",
       "      <td>0.0</td>\n",
       "      <td>267.0</td>\n",
       "      <td>0.0</td>\n",
       "      <td>271.142150</td>\n",
       "    </tr>\n",
       "    <tr>\n",
       "      <th>4</th>\n",
       "      <td>2004-01-05</td>\n",
       "      <td>3.8</td>\n",
       "      <td>0.0</td>\n",
       "      <td>267.0</td>\n",
       "      <td>0.0</td>\n",
       "      <td>271.142150</td>\n",
       "    </tr>\n",
       "    <tr>\n",
       "      <th>5</th>\n",
       "      <td>2004-01-06</td>\n",
       "      <td>3.8</td>\n",
       "      <td>0.0</td>\n",
       "      <td>266.0</td>\n",
       "      <td>0.0</td>\n",
       "      <td>270.141765</td>\n",
       "    </tr>\n",
       "    <tr>\n",
       "      <th>6</th>\n",
       "      <td>2004-01-07</td>\n",
       "      <td>3.8</td>\n",
       "      <td>0.0</td>\n",
       "      <td>266.0</td>\n",
       "      <td>0.0</td>\n",
       "      <td>270.141765</td>\n",
       "    </tr>\n",
       "    <tr>\n",
       "      <th>7</th>\n",
       "      <td>2004-01-08</td>\n",
       "      <td>3.7</td>\n",
       "      <td>0.0</td>\n",
       "      <td>265.0</td>\n",
       "      <td>0.0</td>\n",
       "      <td>269.141379</td>\n",
       "    </tr>\n",
       "    <tr>\n",
       "      <th>8</th>\n",
       "      <td>2004-01-09</td>\n",
       "      <td>3.7</td>\n",
       "      <td>0.0</td>\n",
       "      <td>264.0</td>\n",
       "      <td>0.0</td>\n",
       "      <td>268.140993</td>\n",
       "    </tr>\n",
       "    <tr>\n",
       "      <th>9</th>\n",
       "      <td>2004-01-10</td>\n",
       "      <td>3.7</td>\n",
       "      <td>0.0</td>\n",
       "      <td>264.0</td>\n",
       "      <td>0.0</td>\n",
       "      <td>268.140993</td>\n",
       "    </tr>\n",
       "  </tbody>\n",
       "</table>\n",
       "</div>"
      ],
      "text/plain": [
       "        Date  POONDI  CHOLAVARAM  REDHILLS  CHEMBARAMBAKKAM  \\\n",
       "0 2004-01-01     3.9         0.0     268.0              0.0   \n",
       "1 2004-01-02     3.9         0.0     268.0              0.0   \n",
       "2 2004-01-03     3.9         0.0     267.0              0.0   \n",
       "3 2004-01-04     3.9         0.0     267.0              0.0   \n",
       "4 2004-01-05     3.8         0.0     267.0              0.0   \n",
       "5 2004-01-06     3.8         0.0     266.0              0.0   \n",
       "6 2004-01-07     3.8         0.0     266.0              0.0   \n",
       "7 2004-01-08     3.7         0.0     265.0              0.0   \n",
       "8 2004-01-09     3.7         0.0     264.0              0.0   \n",
       "9 2004-01-10     3.7         0.0     264.0              0.0   \n",
       "\n",
       "   CAPACITY PREDICTION  \n",
       "0           272.142536  \n",
       "1           272.142536  \n",
       "2           271.142150  \n",
       "3           271.142150  \n",
       "4           271.142150  \n",
       "5           270.141765  \n",
       "6           270.141765  \n",
       "7           269.141379  \n",
       "8           268.140993  \n",
       "9           268.140993  "
      ]
     },
     "execution_count": 36,
     "metadata": {},
     "output_type": "execute_result"
    }
   ],
   "source": [
    "df['CAPACITY PREDICTION'] = y_pred_all[:]\n",
    "df[:10]"
   ]
  },
  {
   "cell_type": "code",
   "execution_count": 37,
   "id": "e805eca3",
   "metadata": {},
   "outputs": [],
   "source": [
    "df.to_csv('capacity_pred_of_lake.csv')"
   ]
  },
  {
   "cell_type": "code",
   "execution_count": 40,
   "id": "0326892d",
   "metadata": {},
   "outputs": [
    {
     "data": {
      "text/plain": [
       "<AxesSubplot:xlabel='Date', ylabel='CAPACITY PREDICTION'>"
      ]
     },
     "execution_count": 40,
     "metadata": {},
     "output_type": "execute_result"
    },
    {
     "data": {
      "image/png": "[encoded data removed]",
      "text/plain": [
       "<Figure size 432x288 with 1 Axes>"
      ]
     },
     "metadata": {
      "needs_background": "light"
     },
     "output_type": "display_data"
    }
   ],
   "source": [
    "sns.scatterplot(y=df['CAPACITY PREDICTION'], x=df['Date'])"
   ]
  },
  {
   "cell_type": "code",
   "execution_count": null,
   "id": "ec8148c7",
   "metadata": {},
   "outputs": [],
   "source": []
  }
 ],
 "metadata": {
  "kernelspec": {
   "display_name": "Python 3",
   "language": "python",
   "name": "python3"
  },
  "language_info": {
   "codemirror_mode": {
    "name": "ipython",
    "version": 3
   },
   "file_extension": ".py",
   "mimetype": "text/x-python",
   "name": "python",
   "nbconvert_exporter": "python",
   "pygments_lexer": "ipython3",
   "version": "3.8.8"
  }
 },
 "nbformat": 4,
 "nbformat_minor": 5
}
