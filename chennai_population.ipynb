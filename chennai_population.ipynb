{
 "cells": [
  {
   "cell_type": "code",
   "execution_count": 1,
   "id": "d75fd42c",
   "metadata": {},
   "outputs": [],
   "source": [
    "import os\n",
    "import numpy as np\n",
    "import pandas as pd\n",
    "from sklearn import linear_model\n",
    "from sklearn.model_selection import train_test_split\n",
    "from sklearn.metrics import mean_squared_error, mean_absolute_error, median_absolute_error, r2_score\n",
    "from math import sqrt\n",
    "from scipy import stats"
   ]
  },
  {
   "cell_type": "code",
   "execution_count": 2,
   "id": "18b8e48d",
   "metadata": {},
   "outputs": [],
   "source": [
    "os.chdir('C:\\\\Users\\\\LENOVO\\\\Desktop\\\\VIT hack-a-thon\\\\chennai rainfall')"
   ]
  },
  {
   "cell_type": "code",
   "execution_count": 3,
   "id": "de1d5524",
   "metadata": {},
   "outputs": [],
   "source": [
    "df = pd.read_csv('chennai from 1950.csv')"
   ]
  },
  {
   "cell_type": "code",
   "execution_count": 4,
   "id": "448f5712",
   "metadata": {},
   "outputs": [
    {
     "data": {
      "text/plain": [
       "Index(['Year', 'Population', 'GrowthRate', 'Growth', 'Location'], dtype='object')"
      ]
     },
     "execution_count": 4,
     "metadata": {},
     "output_type": "execute_result"
    }
   ],
   "source": [
    "df.columns"
   ]
  },
  {
   "cell_type": "code",
   "execution_count": 5,
   "id": "4deba06a",
   "metadata": {},
   "outputs": [
    {
     "data": {
      "text/plain": [
       "(71, 4)"
      ]
     },
     "execution_count": 5,
     "metadata": {},
     "output_type": "execute_result"
    }
   ],
   "source": [
    "data = df[['Year', 'GrowthRate', 'Growth', 'Population']]\n",
    "data.shape"
   ]
  },
  {
   "cell_type": "code",
   "execution_count": 6,
   "id": "a6ea59ff",
   "metadata": {},
   "outputs": [
    {
     "data": {
      "text/html": [
       "<div>\n",
       "<style scoped>\n",
       "    .dataframe tbody tr th:only-of-type {\n",
       "        vertical-align: middle;\n",
       "    }\n",
       "\n",
       "    .dataframe tbody tr th {\n",
       "        vertical-align: top;\n",
       "    }\n",
       "\n",
       "    .dataframe thead th {\n",
       "        text-align: right;\n",
       "    }\n",
       "</style>\n",
       "<table border=\"1\" class=\"dataframe\">\n",
       "  <thead>\n",
       "    <tr style=\"text-align: right;\">\n",
       "      <th></th>\n",
       "      <th>Year</th>\n",
       "      <th>GrowthRate</th>\n",
       "      <th>Growth</th>\n",
       "      <th>Population</th>\n",
       "    </tr>\n",
       "  </thead>\n",
       "  <tbody>\n",
       "    <tr>\n",
       "      <th>0</th>\n",
       "      <td>1951</td>\n",
       "      <td>0.0423</td>\n",
       "      <td>63031</td>\n",
       "      <td>1554324</td>\n",
       "    </tr>\n",
       "    <tr>\n",
       "      <th>1</th>\n",
       "      <td>1952</td>\n",
       "      <td>0.0235</td>\n",
       "      <td>36487</td>\n",
       "      <td>1590811</td>\n",
       "    </tr>\n",
       "    <tr>\n",
       "      <th>2</th>\n",
       "      <td>1953</td>\n",
       "      <td>0.0234</td>\n",
       "      <td>37239</td>\n",
       "      <td>1628050</td>\n",
       "    </tr>\n",
       "    <tr>\n",
       "      <th>3</th>\n",
       "      <td>1954</td>\n",
       "      <td>0.0234</td>\n",
       "      <td>38164</td>\n",
       "      <td>1666214</td>\n",
       "    </tr>\n",
       "    <tr>\n",
       "      <th>4</th>\n",
       "      <td>1955</td>\n",
       "      <td>0.0234</td>\n",
       "      <td>39058</td>\n",
       "      <td>1705272</td>\n",
       "    </tr>\n",
       "  </tbody>\n",
       "</table>\n",
       "</div>"
      ],
      "text/plain": [
       "   Year  GrowthRate  Growth  Population\n",
       "0  1951      0.0423   63031     1554324\n",
       "1  1952      0.0235   36487     1590811\n",
       "2  1953      0.0234   37239     1628050\n",
       "3  1954      0.0234   38164     1666214\n",
       "4  1955      0.0234   39058     1705272"
      ]
     },
     "execution_count": 6,
     "metadata": {},
     "output_type": "execute_result"
    }
   ],
   "source": [
    "data.head()"
   ]
  },
  {
   "cell_type": "code",
   "execution_count": 7,
   "id": "7752e162",
   "metadata": {},
   "outputs": [],
   "source": [
    "import seaborn as sns"
   ]
  },
  {
   "cell_type": "code",
   "execution_count": 8,
   "id": "6495187c",
   "metadata": {},
   "outputs": [
    {
     "data": {
      "text/plain": [
       "<AxesSubplot:>"
      ]
     },
     "execution_count": 8,
     "metadata": {},
     "output_type": "execute_result"
    },
    {
     "data": {
      "image/png": "[encoded data removed]",
      "text/plain": [
       "<Figure size 432x288 with 2 Axes>"
      ]
     },
     "metadata": {
      "needs_background": "light"
     },
     "output_type": "display_data"
    }
   ],
   "source": [
    "sns.heatmap(data.corr(), annot=True)"
   ]
  },
  {
   "cell_type": "code",
   "execution_count": 9,
   "id": "02c2feec",
   "metadata": {},
   "outputs": [
    {
     "data": {
      "text/plain": [
       "(71, 3)"
      ]
     },
     "execution_count": 9,
     "metadata": {},
     "output_type": "execute_result"
    }
   ],
   "source": [
    "X = data.loc[:,:'Growth']\n",
    "X.shape"
   ]
  },
  {
   "cell_type": "code",
   "execution_count": 10,
   "id": "3c48787a",
   "metadata": {},
   "outputs": [
    {
     "data": {
      "text/html": [
       "<div>\n",
       "<style scoped>\n",
       "    .dataframe tbody tr th:only-of-type {\n",
       "        vertical-align: middle;\n",
       "    }\n",
       "\n",
       "    .dataframe tbody tr th {\n",
       "        vertical-align: top;\n",
       "    }\n",
       "\n",
       "    .dataframe thead th {\n",
       "        text-align: right;\n",
       "    }\n",
       "</style>\n",
       "<table border=\"1\" class=\"dataframe\">\n",
       "  <thead>\n",
       "    <tr style=\"text-align: right;\">\n",
       "      <th></th>\n",
       "      <th>Year</th>\n",
       "      <th>GrowthRate</th>\n",
       "      <th>Growth</th>\n",
       "    </tr>\n",
       "  </thead>\n",
       "  <tbody>\n",
       "    <tr>\n",
       "      <th>count</th>\n",
       "      <td>71.000000</td>\n",
       "      <td>71.000000</td>\n",
       "      <td>71.000000</td>\n",
       "    </tr>\n",
       "    <tr>\n",
       "      <th>mean</th>\n",
       "      <td>1986.000000</td>\n",
       "      <td>0.028882</td>\n",
       "      <td>137235.563380</td>\n",
       "    </tr>\n",
       "    <tr>\n",
       "      <th>std</th>\n",
       "      <td>20.639767</td>\n",
       "      <td>0.008831</td>\n",
       "      <td>63824.023467</td>\n",
       "    </tr>\n",
       "    <tr>\n",
       "      <th>min</th>\n",
       "      <td>1951.000000</td>\n",
       "      <td>0.021200</td>\n",
       "      <td>36487.000000</td>\n",
       "    </tr>\n",
       "    <tr>\n",
       "      <th>25%</th>\n",
       "      <td>1968.500000</td>\n",
       "      <td>0.023500</td>\n",
       "      <td>106496.000000</td>\n",
       "    </tr>\n",
       "    <tr>\n",
       "      <th>50%</th>\n",
       "      <td>1986.000000</td>\n",
       "      <td>0.026100</td>\n",
       "      <td>122273.000000</td>\n",
       "    </tr>\n",
       "    <tr>\n",
       "      <th>75%</th>\n",
       "      <td>2003.500000</td>\n",
       "      <td>0.031000</td>\n",
       "      <td>183307.000000</td>\n",
       "    </tr>\n",
       "    <tr>\n",
       "      <th>max</th>\n",
       "      <td>2021.000000</td>\n",
       "      <td>0.049300</td>\n",
       "      <td>266233.000000</td>\n",
       "    </tr>\n",
       "  </tbody>\n",
       "</table>\n",
       "</div>"
      ],
      "text/plain": [
       "              Year  GrowthRate         Growth\n",
       "count    71.000000   71.000000      71.000000\n",
       "mean   1986.000000    0.028882  137235.563380\n",
       "std      20.639767    0.008831   63824.023467\n",
       "min    1951.000000    0.021200   36487.000000\n",
       "25%    1968.500000    0.023500  106496.000000\n",
       "50%    1986.000000    0.026100  122273.000000\n",
       "75%    2003.500000    0.031000  183307.000000\n",
       "max    2021.000000    0.049300  266233.000000"
      ]
     },
     "execution_count": 10,
     "metadata": {},
     "output_type": "execute_result"
    }
   ],
   "source": [
    "X.describe()"
   ]
  },
  {
   "cell_type": "code",
   "execution_count": 11,
   "id": "18df6969",
   "metadata": {},
   "outputs": [],
   "source": [
    "for col in X.columns:\n",
    "    X[col].fillna(X[col].median(), inplace=True)"
   ]
  },
  {
   "cell_type": "code",
   "execution_count": 12,
   "id": "03245065",
   "metadata": {},
   "outputs": [
    {
     "data": {
      "text/plain": [
       "Year          0\n",
       "GrowthRate    0\n",
       "Growth        0\n",
       "dtype: int64"
      ]
     },
     "execution_count": 12,
     "metadata": {},
     "output_type": "execute_result"
    }
   ],
   "source": [
    "X.isna().sum()"
   ]
  },
  {
   "cell_type": "code",
   "execution_count": 13,
   "id": "70a40f4a",
   "metadata": {},
   "outputs": [
    {
     "data": {
      "text/plain": [
       "(71,)"
      ]
     },
     "execution_count": 13,
     "metadata": {},
     "output_type": "execute_result"
    }
   ],
   "source": [
    "y = data['Population']\n",
    "y.shape"
   ]
  },
  {
   "cell_type": "code",
   "execution_count": 14,
   "id": "10ef2a7d",
   "metadata": {},
   "outputs": [
    {
     "data": {
      "text/plain": [
       "0"
      ]
     },
     "execution_count": 14,
     "metadata": {},
     "output_type": "execute_result"
    }
   ],
   "source": [
    "y.isna().sum()"
   ]
  },
  {
   "cell_type": "code",
   "execution_count": 15,
   "id": "99c4d21a",
   "metadata": {},
   "outputs": [],
   "source": [
    "X_train, X_test, y_train, y_test = train_test_split(X, y, test_size=0.3, random_state=100)"
   ]
  },
  {
   "cell_type": "code",
   "execution_count": 16,
   "id": "f1756da1",
   "metadata": {},
   "outputs": [],
   "source": [
    "X_log_train = np.log(X_train)\n",
    "X_log_test = np.log(X_test)\n",
    "y_log_train = np.log(y_train)\n",
    "y_log_test = np.log(y_test)"
   ]
  },
  {
   "cell_type": "code",
   "execution_count": 17,
   "id": "774c4420",
   "metadata": {},
   "outputs": [],
   "source": [
    "\n",
    "lm_log = linear_model.LinearRegression()\n",
    "model = lm_log.fit(X_log_train, y_log_train)"
   ]
  },
  {
   "cell_type": "code",
   "execution_count": 18,
   "id": "c8a1a4a5",
   "metadata": {},
   "outputs": [
    {
     "data": {
      "text/plain": [
       "array([-0.10019514, -0.96864107,  1.00150174])"
      ]
     },
     "execution_count": 18,
     "metadata": {},
     "output_type": "execute_result"
    }
   ],
   "source": [
    "lm_log.coef_"
   ]
  },
  {
   "cell_type": "code",
   "execution_count": 19,
   "id": "6406b3d9",
   "metadata": {},
   "outputs": [
    {
     "data": {
      "text/plain": [
       "0.8837845496837886"
      ]
     },
     "execution_count": 19,
     "metadata": {},
     "output_type": "execute_result"
    }
   ],
   "source": [
    "lm_log.intercept_"
   ]
  },
  {
   "cell_type": "code",
   "execution_count": 20,
   "id": "b38665f1",
   "metadata": {},
   "outputs": [],
   "source": [
    "y_log_fit = lm_log.predict(X_log_train)"
   ]
  },
  {
   "cell_type": "code",
   "execution_count": 21,
   "id": "833a41ea",
   "metadata": {},
   "outputs": [],
   "source": [
    "y_fit = np.exp(y_log_fit)"
   ]
  },
  {
   "cell_type": "code",
   "execution_count": 22,
   "id": "a9886b7d",
   "metadata": {},
   "outputs": [
    {
     "data": {
      "text/plain": [
       "0.9999900074566777"
      ]
     },
     "execution_count": 22,
     "metadata": {},
     "output_type": "execute_result"
    }
   ],
   "source": [
    "r2_train = r2_score(y_train, y_fit)\n",
    "r2_train"
   ]
  },
  {
   "cell_type": "code",
   "execution_count": 23,
   "id": "0a21b778",
   "metadata": {},
   "outputs": [
    {
     "data": {
      "text/plain": [
       "8901.696148123636"
      ]
     },
     "execution_count": 23,
     "metadata": {},
     "output_type": "execute_result"
    }
   ],
   "source": [
    "rmse_train = sqrt(mean_squared_error(y_train, y_fit))\n",
    "rmse_train"
   ]
  },
  {
   "cell_type": "code",
   "execution_count": 24,
   "id": "3935d9b0",
   "metadata": {},
   "outputs": [
    {
     "data": {
      "text/plain": [
       "7004.9294603288945"
      ]
     },
     "execution_count": 24,
     "metadata": {},
     "output_type": "execute_result"
    }
   ],
   "source": [
    "mae_train = mean_absolute_error(y_train, y_fit)\n",
    "mae_train"
   ]
  },
  {
   "cell_type": "code",
   "execution_count": 25,
   "id": "21516b0e",
   "metadata": {},
   "outputs": [],
   "source": [
    "y_log_pred = lm_log.predict(X_log_test)"
   ]
  },
  {
   "cell_type": "code",
   "execution_count": 26,
   "id": "f2897a7f",
   "metadata": {},
   "outputs": [],
   "source": [
    "y_pred = np.exp(y_log_pred)"
   ]
  },
  {
   "cell_type": "code",
   "execution_count": 27,
   "id": "989cf7f4",
   "metadata": {},
   "outputs": [
    {
     "data": {
      "text/plain": [
       "9723.828996604501"
      ]
     },
     "execution_count": 27,
     "metadata": {},
     "output_type": "execute_result"
    }
   ],
   "source": [
    "rmse_test = sqrt(mean_squared_error(y_test, y_pred))\n",
    "rmse_test"
   ]
  },
  {
   "cell_type": "code",
   "execution_count": 28,
   "id": "89537f13",
   "metadata": {},
   "outputs": [
    {
     "data": {
      "text/plain": [
       "7369.263548198738"
      ]
     },
     "execution_count": 28,
     "metadata": {},
     "output_type": "execute_result"
    }
   ],
   "source": [
    "mae_test = mean_absolute_error(y_test, y_pred)\n",
    "mae_test"
   ]
  },
  {
   "cell_type": "code",
   "execution_count": 29,
   "id": "4476de14",
   "metadata": {},
   "outputs": [
    {
     "data": {
      "text/plain": [
       "0.9999867070330057"
      ]
     },
     "execution_count": 29,
     "metadata": {},
     "output_type": "execute_result"
    }
   ],
   "source": [
    "r2_test = r2_score(y_test, y_pred)\n",
    "r2_test"
   ]
  },
  {
   "cell_type": "code",
   "execution_count": 30,
   "id": "87c67b93",
   "metadata": {},
   "outputs": [],
   "source": [
    "y_log_pred_all = lm_log.predict(np.log(X))"
   ]
  },
  {
   "cell_type": "code",
   "execution_count": 31,
   "id": "37bfd846",
   "metadata": {},
   "outputs": [],
   "source": [
    "y_pred_all = np.exp(y_log_pred_all)"
   ]
  },
  {
   "cell_type": "code",
   "execution_count": 32,
   "id": "5632c43f",
   "metadata": {},
   "outputs": [
    {
     "data": {
      "text/plain": [
       "0    1554324\n",
       "1    1590811\n",
       "2    1628050\n",
       "3    1666214\n",
       "4    1705272\n",
       "5    1745302\n",
       "6    1786158\n",
       "7    1828028\n",
       "8    1870880\n",
       "9    1914797\n",
       "Name: Population, dtype: int64"
      ]
     },
     "execution_count": 32,
     "metadata": {},
     "output_type": "execute_result"
    }
   ],
   "source": [
    "y[:10]"
   ]
  },
  {
   "cell_type": "code",
   "execution_count": 33,
   "id": "155a2ea6",
   "metadata": {},
   "outputs": [
    {
     "data": {
      "text/plain": [
       "array([1554175.3122064 , 1588446.39289266, 1627861.16669101,\n",
       "       1668272.41007576, 1707323.89862102, 1742574.52344562,\n",
       "       1785856.76412253, 1830153.42472371, 1873046.39908674,\n",
       "       1911657.04341519])"
      ]
     },
     "execution_count": 33,
     "metadata": {},
     "output_type": "execute_result"
    }
   ],
   "source": [
    "y_pred_all[:10]"
   ]
  },
  {
   "cell_type": "code",
   "execution_count": 34,
   "id": "d1893a12",
   "metadata": {},
   "outputs": [
    {
     "data": {
      "text/plain": [
       "DescribeResult(nobs=71, minmax=(1554175.312206405, 11206327.432949862), mean=5242362.993808384, variance=7813907667308.578, skewness=0.4653930366129662, kurtosis=-0.8573342401391923)"
      ]
     },
     "execution_count": 34,
     "metadata": {},
     "output_type": "execute_result"
    }
   ],
   "source": [
    "stats.describe(y_pred_all)"
   ]
  },
  {
   "cell_type": "code",
   "execution_count": 35,
   "id": "3b595fe7",
   "metadata": {},
   "outputs": [
    {
     "data": {
      "text/html": [
       "<div>\n",
       "<style scoped>\n",
       "    .dataframe tbody tr th:only-of-type {\n",
       "        vertical-align: middle;\n",
       "    }\n",
       "\n",
       "    .dataframe tbody tr th {\n",
       "        vertical-align: top;\n",
       "    }\n",
       "\n",
       "    .dataframe thead th {\n",
       "        text-align: right;\n",
       "    }\n",
       "</style>\n",
       "<table border=\"1\" class=\"dataframe\">\n",
       "  <thead>\n",
       "    <tr style=\"text-align: right;\">\n",
       "      <th></th>\n",
       "      <th>Year</th>\n",
       "      <th>Population</th>\n",
       "      <th>GrowthRate</th>\n",
       "      <th>Growth</th>\n",
       "      <th>Location</th>\n",
       "      <th>Population_pred</th>\n",
       "    </tr>\n",
       "  </thead>\n",
       "  <tbody>\n",
       "    <tr>\n",
       "      <th>0</th>\n",
       "      <td>1951</td>\n",
       "      <td>1554324</td>\n",
       "      <td>0.0423</td>\n",
       "      <td>63031</td>\n",
       "      <td>Chennai</td>\n",
       "      <td>1.554175e+06</td>\n",
       "    </tr>\n",
       "    <tr>\n",
       "      <th>1</th>\n",
       "      <td>1952</td>\n",
       "      <td>1590811</td>\n",
       "      <td>0.0235</td>\n",
       "      <td>36487</td>\n",
       "      <td>Chennai</td>\n",
       "      <td>1.588446e+06</td>\n",
       "    </tr>\n",
       "    <tr>\n",
       "      <th>2</th>\n",
       "      <td>1953</td>\n",
       "      <td>1628050</td>\n",
       "      <td>0.0234</td>\n",
       "      <td>37239</td>\n",
       "      <td>Chennai</td>\n",
       "      <td>1.627861e+06</td>\n",
       "    </tr>\n",
       "    <tr>\n",
       "      <th>3</th>\n",
       "      <td>1954</td>\n",
       "      <td>1666214</td>\n",
       "      <td>0.0234</td>\n",
       "      <td>38164</td>\n",
       "      <td>Chennai</td>\n",
       "      <td>1.668272e+06</td>\n",
       "    </tr>\n",
       "    <tr>\n",
       "      <th>4</th>\n",
       "      <td>1955</td>\n",
       "      <td>1705272</td>\n",
       "      <td>0.0234</td>\n",
       "      <td>39058</td>\n",
       "      <td>Chennai</td>\n",
       "      <td>1.707324e+06</td>\n",
       "    </tr>\n",
       "    <tr>\n",
       "      <th>5</th>\n",
       "      <td>1956</td>\n",
       "      <td>1745302</td>\n",
       "      <td>0.0235</td>\n",
       "      <td>40030</td>\n",
       "      <td>Chennai</td>\n",
       "      <td>1.742575e+06</td>\n",
       "    </tr>\n",
       "    <tr>\n",
       "      <th>6</th>\n",
       "      <td>1957</td>\n",
       "      <td>1786158</td>\n",
       "      <td>0.0234</td>\n",
       "      <td>40856</td>\n",
       "      <td>Chennai</td>\n",
       "      <td>1.785857e+06</td>\n",
       "    </tr>\n",
       "    <tr>\n",
       "      <th>7</th>\n",
       "      <td>1958</td>\n",
       "      <td>1828028</td>\n",
       "      <td>0.0234</td>\n",
       "      <td>41870</td>\n",
       "      <td>Chennai</td>\n",
       "      <td>1.830153e+06</td>\n",
       "    </tr>\n",
       "    <tr>\n",
       "      <th>8</th>\n",
       "      <td>1959</td>\n",
       "      <td>1870880</td>\n",
       "      <td>0.0234</td>\n",
       "      <td>42852</td>\n",
       "      <td>Chennai</td>\n",
       "      <td>1.873046e+06</td>\n",
       "    </tr>\n",
       "    <tr>\n",
       "      <th>9</th>\n",
       "      <td>1960</td>\n",
       "      <td>1914797</td>\n",
       "      <td>0.0235</td>\n",
       "      <td>43917</td>\n",
       "      <td>Chennai</td>\n",
       "      <td>1.911657e+06</td>\n",
       "    </tr>\n",
       "  </tbody>\n",
       "</table>\n",
       "</div>"
      ],
      "text/plain": [
       "   Year  Population  GrowthRate  Growth Location  Population_pred\n",
       "0  1951     1554324      0.0423   63031  Chennai     1.554175e+06\n",
       "1  1952     1590811      0.0235   36487  Chennai     1.588446e+06\n",
       "2  1953     1628050      0.0234   37239  Chennai     1.627861e+06\n",
       "3  1954     1666214      0.0234   38164  Chennai     1.668272e+06\n",
       "4  1955     1705272      0.0234   39058  Chennai     1.707324e+06\n",
       "5  1956     1745302      0.0235   40030  Chennai     1.742575e+06\n",
       "6  1957     1786158      0.0234   40856  Chennai     1.785857e+06\n",
       "7  1958     1828028      0.0234   41870  Chennai     1.830153e+06\n",
       "8  1959     1870880      0.0234   42852  Chennai     1.873046e+06\n",
       "9  1960     1914797      0.0235   43917  Chennai     1.911657e+06"
      ]
     },
     "execution_count": 35,
     "metadata": {},
     "output_type": "execute_result"
    }
   ],
   "source": [
    "df['Population_pred'] = y_pred_all[:]\n",
    "df[:10]"
   ]
  },
  {
   "cell_type": "code",
   "execution_count": 36,
   "id": "9912388d",
   "metadata": {},
   "outputs": [
    {
     "data": {
      "text/html": [
       "<div>\n",
       "<style scoped>\n",
       "    .dataframe tbody tr th:only-of-type {\n",
       "        vertical-align: middle;\n",
       "    }\n",
       "\n",
       "    .dataframe tbody tr th {\n",
       "        vertical-align: top;\n",
       "    }\n",
       "\n",
       "    .dataframe thead th {\n",
       "        text-align: right;\n",
       "    }\n",
       "</style>\n",
       "<table border=\"1\" class=\"dataframe\">\n",
       "  <thead>\n",
       "    <tr style=\"text-align: right;\">\n",
       "      <th></th>\n",
       "      <th>Year</th>\n",
       "      <th>Population</th>\n",
       "      <th>GrowthRate</th>\n",
       "      <th>Growth</th>\n",
       "      <th>Location</th>\n",
       "      <th>Population_pred</th>\n",
       "    </tr>\n",
       "  </thead>\n",
       "  <tbody>\n",
       "    <tr>\n",
       "      <th>0</th>\n",
       "      <td>1951</td>\n",
       "      <td>1554324</td>\n",
       "      <td>0.0423</td>\n",
       "      <td>63031</td>\n",
       "      <td>Chennai</td>\n",
       "      <td>1554175.31</td>\n",
       "    </tr>\n",
       "    <tr>\n",
       "      <th>1</th>\n",
       "      <td>1952</td>\n",
       "      <td>1590811</td>\n",
       "      <td>0.0235</td>\n",
       "      <td>36487</td>\n",
       "      <td>Chennai</td>\n",
       "      <td>1588446.39</td>\n",
       "    </tr>\n",
       "    <tr>\n",
       "      <th>2</th>\n",
       "      <td>1953</td>\n",
       "      <td>1628050</td>\n",
       "      <td>0.0234</td>\n",
       "      <td>37239</td>\n",
       "      <td>Chennai</td>\n",
       "      <td>1627861.17</td>\n",
       "    </tr>\n",
       "    <tr>\n",
       "      <th>3</th>\n",
       "      <td>1954</td>\n",
       "      <td>1666214</td>\n",
       "      <td>0.0234</td>\n",
       "      <td>38164</td>\n",
       "      <td>Chennai</td>\n",
       "      <td>1668272.41</td>\n",
       "    </tr>\n",
       "    <tr>\n",
       "      <th>4</th>\n",
       "      <td>1955</td>\n",
       "      <td>1705272</td>\n",
       "      <td>0.0234</td>\n",
       "      <td>39058</td>\n",
       "      <td>Chennai</td>\n",
       "      <td>1707323.90</td>\n",
       "    </tr>\n",
       "    <tr>\n",
       "      <th>...</th>\n",
       "      <td>...</td>\n",
       "      <td>...</td>\n",
       "      <td>...</td>\n",
       "      <td>...</td>\n",
       "      <td>...</td>\n",
       "      <td>...</td>\n",
       "    </tr>\n",
       "    <tr>\n",
       "      <th>66</th>\n",
       "      <td>2017</td>\n",
       "      <td>10189373</td>\n",
       "      <td>0.0261</td>\n",
       "      <td>259454</td>\n",
       "      <td>Chennai</td>\n",
       "      <td>10200118.68</td>\n",
       "    </tr>\n",
       "    <tr>\n",
       "      <th>67</th>\n",
       "      <td>2018</td>\n",
       "      <td>10455606</td>\n",
       "      <td>0.0261</td>\n",
       "      <td>266233</td>\n",
       "      <td>Chennai</td>\n",
       "      <td>10466512.43</td>\n",
       "    </tr>\n",
       "    <tr>\n",
       "      <th>68</th>\n",
       "      <td>2019</td>\n",
       "      <td>10711243</td>\n",
       "      <td>0.0244</td>\n",
       "      <td>255637</td>\n",
       "      <td>Chennai</td>\n",
       "      <td>10726281.38</td>\n",
       "    </tr>\n",
       "    <tr>\n",
       "      <th>69</th>\n",
       "      <td>2020</td>\n",
       "      <td>10971108</td>\n",
       "      <td>0.0243</td>\n",
       "      <td>259865</td>\n",
       "      <td>Chennai</td>\n",
       "      <td>10946871.94</td>\n",
       "    </tr>\n",
       "    <tr>\n",
       "      <th>70</th>\n",
       "      <td>2021</td>\n",
       "      <td>11235018</td>\n",
       "      <td>0.0241</td>\n",
       "      <td>263910</td>\n",
       "      <td>Chennai</td>\n",
       "      <td>11206327.43</td>\n",
       "    </tr>\n",
       "  </tbody>\n",
       "</table>\n",
       "<p>71 rows × 6 columns</p>\n",
       "</div>"
      ],
      "text/plain": [
       "    Year  Population  GrowthRate  Growth Location  Population_pred\n",
       "0   1951     1554324      0.0423   63031  Chennai       1554175.31\n",
       "1   1952     1590811      0.0235   36487  Chennai       1588446.39\n",
       "2   1953     1628050      0.0234   37239  Chennai       1627861.17\n",
       "3   1954     1666214      0.0234   38164  Chennai       1668272.41\n",
       "4   1955     1705272      0.0234   39058  Chennai       1707323.90\n",
       "..   ...         ...         ...     ...      ...              ...\n",
       "66  2017    10189373      0.0261  259454  Chennai      10200118.68\n",
       "67  2018    10455606      0.0261  266233  Chennai      10466512.43\n",
       "68  2019    10711243      0.0244  255637  Chennai      10726281.38\n",
       "69  2020    10971108      0.0243  259865  Chennai      10946871.94\n",
       "70  2021    11235018      0.0241  263910  Chennai      11206327.43\n",
       "\n",
       "[71 rows x 6 columns]"
      ]
     },
     "execution_count": 36,
     "metadata": {},
     "output_type": "execute_result"
    }
   ],
   "source": [
    "df = df.round({'Population_pred':2})\n",
    "df"
   ]
  },
  {
   "cell_type": "code",
   "execution_count": 37,
   "id": "b3449fdf",
   "metadata": {},
   "outputs": [
    {
     "data": {
      "text/plain": [
       "137235.5633802817"
      ]
     },
     "execution_count": 37,
     "metadata": {},
     "output_type": "execute_result"
    }
   ],
   "source": [
    "X['Growth'].mean()"
   ]
  },
  {
   "cell_type": "code",
   "execution_count": 38,
   "id": "9c8c4c6a",
   "metadata": {},
   "outputs": [],
   "source": [
    "# df.to_csv('linear_regression_pred_log-transform.csv', index=False)"
   ]
  },
  {
   "cell_type": "code",
   "execution_count": 39,
   "id": "9af04d2e",
   "metadata": {},
   "outputs": [
    {
     "data": {
      "text/plain": [
       "7117.821712908282"
      ]
     },
     "execution_count": 39,
     "metadata": {},
     "output_type": "execute_result"
    }
   ],
   "source": [
    "mean_absolute_error(y, y_pred_all)"
   ]
  },
  {
   "cell_type": "code",
   "execution_count": 40,
   "id": "40be327d",
   "metadata": {},
   "outputs": [
    {
     "data": {
      "text/plain": [
       "5219.334500368219"
      ]
     },
     "execution_count": 40,
     "metadata": {},
     "output_type": "execute_result"
    }
   ],
   "source": [
    "median_absolute_error(y,y_pred_all)"
   ]
  },
  {
   "cell_type": "code",
   "execution_count": 41,
   "id": "00f4b350",
   "metadata": {},
   "outputs": [
    {
     "data": {
      "text/plain": [
       "0.9999890972746266"
      ]
     },
     "execution_count": 41,
     "metadata": {},
     "output_type": "execute_result"
    }
   ],
   "source": [
    "r2_score(y,y_pred_all)"
   ]
  },
  {
   "cell_type": "code",
   "execution_count": 42,
   "id": "c02ff288",
   "metadata": {},
   "outputs": [
    {
     "data": {
      "text/plain": [
       "array([-19.31252223])"
      ]
     },
     "execution_count": 42,
     "metadata": {},
     "output_type": "execute_result"
    }
   ],
   "source": [
    "x = [[2022, 11678765, 0.0256]] #output prediction\n",
    "lm_log.predict(np.log(x))"
   ]
  },
  {
   "cell_type": "code",
   "execution_count": 43,
   "id": "83d102fa",
   "metadata": {},
   "outputs": [
    {
     "data": {
      "text/html": [
       "<div>\n",
       "<style scoped>\n",
       "    .dataframe tbody tr th:only-of-type {\n",
       "        vertical-align: middle;\n",
       "    }\n",
       "\n",
       "    .dataframe tbody tr th {\n",
       "        vertical-align: top;\n",
       "    }\n",
       "\n",
       "    .dataframe thead th {\n",
       "        text-align: right;\n",
       "    }\n",
       "</style>\n",
       "<table border=\"1\" class=\"dataframe\">\n",
       "  <thead>\n",
       "    <tr style=\"text-align: right;\">\n",
       "      <th></th>\n",
       "      <th>Year</th>\n",
       "      <th>Population</th>\n",
       "      <th>GrowthRate</th>\n",
       "      <th>Growth</th>\n",
       "      <th>Location</th>\n",
       "      <th>Population_pred</th>\n",
       "    </tr>\n",
       "  </thead>\n",
       "  <tbody>\n",
       "    <tr>\n",
       "      <th>0</th>\n",
       "      <td>1951</td>\n",
       "      <td>1554324</td>\n",
       "      <td>0.0423</td>\n",
       "      <td>63031</td>\n",
       "      <td>Chennai</td>\n",
       "      <td>1554175.31</td>\n",
       "    </tr>\n",
       "    <tr>\n",
       "      <th>1</th>\n",
       "      <td>1952</td>\n",
       "      <td>1590811</td>\n",
       "      <td>0.0235</td>\n",
       "      <td>36487</td>\n",
       "      <td>Chennai</td>\n",
       "      <td>1588446.39</td>\n",
       "    </tr>\n",
       "    <tr>\n",
       "      <th>2</th>\n",
       "      <td>1953</td>\n",
       "      <td>1628050</td>\n",
       "      <td>0.0234</td>\n",
       "      <td>37239</td>\n",
       "      <td>Chennai</td>\n",
       "      <td>1627861.17</td>\n",
       "    </tr>\n",
       "    <tr>\n",
       "      <th>3</th>\n",
       "      <td>1954</td>\n",
       "      <td>1666214</td>\n",
       "      <td>0.0234</td>\n",
       "      <td>38164</td>\n",
       "      <td>Chennai</td>\n",
       "      <td>1668272.41</td>\n",
       "    </tr>\n",
       "    <tr>\n",
       "      <th>4</th>\n",
       "      <td>1955</td>\n",
       "      <td>1705272</td>\n",
       "      <td>0.0234</td>\n",
       "      <td>39058</td>\n",
       "      <td>Chennai</td>\n",
       "      <td>1707323.90</td>\n",
       "    </tr>\n",
       "    <tr>\n",
       "      <th>...</th>\n",
       "      <td>...</td>\n",
       "      <td>...</td>\n",
       "      <td>...</td>\n",
       "      <td>...</td>\n",
       "      <td>...</td>\n",
       "      <td>...</td>\n",
       "    </tr>\n",
       "    <tr>\n",
       "      <th>66</th>\n",
       "      <td>2017</td>\n",
       "      <td>10189373</td>\n",
       "      <td>0.0261</td>\n",
       "      <td>259454</td>\n",
       "      <td>Chennai</td>\n",
       "      <td>10200118.68</td>\n",
       "    </tr>\n",
       "    <tr>\n",
       "      <th>67</th>\n",
       "      <td>2018</td>\n",
       "      <td>10455606</td>\n",
       "      <td>0.0261</td>\n",
       "      <td>266233</td>\n",
       "      <td>Chennai</td>\n",
       "      <td>10466512.43</td>\n",
       "    </tr>\n",
       "    <tr>\n",
       "      <th>68</th>\n",
       "      <td>2019</td>\n",
       "      <td>10711243</td>\n",
       "      <td>0.0244</td>\n",
       "      <td>255637</td>\n",
       "      <td>Chennai</td>\n",
       "      <td>10726281.38</td>\n",
       "    </tr>\n",
       "    <tr>\n",
       "      <th>69</th>\n",
       "      <td>2020</td>\n",
       "      <td>10971108</td>\n",
       "      <td>0.0243</td>\n",
       "      <td>259865</td>\n",
       "      <td>Chennai</td>\n",
       "      <td>10946871.94</td>\n",
       "    </tr>\n",
       "    <tr>\n",
       "      <th>70</th>\n",
       "      <td>2021</td>\n",
       "      <td>11235018</td>\n",
       "      <td>0.0241</td>\n",
       "      <td>263910</td>\n",
       "      <td>Chennai</td>\n",
       "      <td>11206327.43</td>\n",
       "    </tr>\n",
       "  </tbody>\n",
       "</table>\n",
       "<p>71 rows × 6 columns</p>\n",
       "</div>"
      ],
      "text/plain": [
       "    Year  Population  GrowthRate  Growth Location  Population_pred\n",
       "0   1951     1554324      0.0423   63031  Chennai       1554175.31\n",
       "1   1952     1590811      0.0235   36487  Chennai       1588446.39\n",
       "2   1953     1628050      0.0234   37239  Chennai       1627861.17\n",
       "3   1954     1666214      0.0234   38164  Chennai       1668272.41\n",
       "4   1955     1705272      0.0234   39058  Chennai       1707323.90\n",
       "..   ...         ...         ...     ...      ...              ...\n",
       "66  2017    10189373      0.0261  259454  Chennai      10200118.68\n",
       "67  2018    10455606      0.0261  266233  Chennai      10466512.43\n",
       "68  2019    10711243      0.0244  255637  Chennai      10726281.38\n",
       "69  2020    10971108      0.0243  259865  Chennai      10946871.94\n",
       "70  2021    11235018      0.0241  263910  Chennai      11206327.43\n",
       "\n",
       "[71 rows x 6 columns]"
      ]
     },
     "execution_count": 43,
     "metadata": {},
     "output_type": "execute_result"
    }
   ],
   "source": [
    "df"
   ]
  },
  {
   "cell_type": "code",
   "execution_count": 44,
   "id": "3e6f293e",
   "metadata": {},
   "outputs": [],
   "source": [
    "graph = pd.DataFrame({'Index':df['Year'],'Actual Population':df['Population'], 'Predicted Population':df['Population_pred']})"
   ]
  },
  {
   "cell_type": "code",
   "execution_count": 45,
   "id": "d5d5395c",
   "metadata": {},
   "outputs": [],
   "source": [
    "graph = graph[:30]"
   ]
  },
  {
   "cell_type": "code",
   "execution_count": 46,
   "id": "6c8ea532",
   "metadata": {},
   "outputs": [
    {
     "data": {
      "text/plain": [
       "<AxesSubplot:>"
      ]
     },
     "execution_count": 46,
     "metadata": {},
     "output_type": "execute_result"
    },
    {
     "data": {
      "image/png": "[encoded data removed]",
      "text/plain": [
       "<Figure size 432x288 with 1 Axes>"
      ]
     },
     "metadata": {
      "needs_background": "light"
     },
     "output_type": "display_data"
    }
   ],
   "source": [
    "graph.plot(kind='bar')"
   ]
  },
  {
   "cell_type": "code",
   "execution_count": 47,
   "id": "72887804",
   "metadata": {},
   "outputs": [
    {
     "data": {
      "text/html": [
       "<div>\n",
       "<style scoped>\n",
       "    .dataframe tbody tr th:only-of-type {\n",
       "        vertical-align: middle;\n",
       "    }\n",
       "\n",
       "    .dataframe tbody tr th {\n",
       "        vertical-align: top;\n",
       "    }\n",
       "\n",
       "    .dataframe thead th {\n",
       "        text-align: right;\n",
       "    }\n",
       "</style>\n",
       "<table border=\"1\" class=\"dataframe\">\n",
       "  <thead>\n",
       "    <tr style=\"text-align: right;\">\n",
       "      <th></th>\n",
       "      <th>Index</th>\n",
       "      <th>Actual Population</th>\n",
       "      <th>Predicted Population</th>\n",
       "    </tr>\n",
       "  </thead>\n",
       "  <tbody>\n",
       "    <tr>\n",
       "      <th>0</th>\n",
       "      <td>1951</td>\n",
       "      <td>1554324</td>\n",
       "      <td>1554175.31</td>\n",
       "    </tr>\n",
       "    <tr>\n",
       "      <th>1</th>\n",
       "      <td>1952</td>\n",
       "      <td>1590811</td>\n",
       "      <td>1588446.39</td>\n",
       "    </tr>\n",
       "    <tr>\n",
       "      <th>2</th>\n",
       "      <td>1953</td>\n",
       "      <td>1628050</td>\n",
       "      <td>1627861.17</td>\n",
       "    </tr>\n",
       "    <tr>\n",
       "      <th>3</th>\n",
       "      <td>1954</td>\n",
       "      <td>1666214</td>\n",
       "      <td>1668272.41</td>\n",
       "    </tr>\n",
       "    <tr>\n",
       "      <th>4</th>\n",
       "      <td>1955</td>\n",
       "      <td>1705272</td>\n",
       "      <td>1707323.90</td>\n",
       "    </tr>\n",
       "    <tr>\n",
       "      <th>5</th>\n",
       "      <td>1956</td>\n",
       "      <td>1745302</td>\n",
       "      <td>1742574.52</td>\n",
       "    </tr>\n",
       "    <tr>\n",
       "      <th>6</th>\n",
       "      <td>1957</td>\n",
       "      <td>1786158</td>\n",
       "      <td>1785856.76</td>\n",
       "    </tr>\n",
       "    <tr>\n",
       "      <th>7</th>\n",
       "      <td>1958</td>\n",
       "      <td>1828028</td>\n",
       "      <td>1830153.42</td>\n",
       "    </tr>\n",
       "    <tr>\n",
       "      <th>8</th>\n",
       "      <td>1959</td>\n",
       "      <td>1870880</td>\n",
       "      <td>1873046.40</td>\n",
       "    </tr>\n",
       "    <tr>\n",
       "      <th>9</th>\n",
       "      <td>1960</td>\n",
       "      <td>1914797</td>\n",
       "      <td>1911657.04</td>\n",
       "    </tr>\n",
       "    <tr>\n",
       "      <th>10</th>\n",
       "      <td>1961</td>\n",
       "      <td>1975964</td>\n",
       "      <td>1981196.73</td>\n",
       "    </tr>\n",
       "    <tr>\n",
       "      <th>11</th>\n",
       "      <td>1962</td>\n",
       "      <td>2073166</td>\n",
       "      <td>2070580.19</td>\n",
       "    </tr>\n",
       "    <tr>\n",
       "      <th>12</th>\n",
       "      <td>1963</td>\n",
       "      <td>2175149</td>\n",
       "      <td>2172469.96</td>\n",
       "    </tr>\n",
       "    <tr>\n",
       "      <th>13</th>\n",
       "      <td>1964</td>\n",
       "      <td>2282300</td>\n",
       "      <td>2278128.09</td>\n",
       "    </tr>\n",
       "    <tr>\n",
       "      <th>14</th>\n",
       "      <td>1965</td>\n",
       "      <td>2394412</td>\n",
       "      <td>2393048.19</td>\n",
       "    </tr>\n",
       "    <tr>\n",
       "      <th>15</th>\n",
       "      <td>1966</td>\n",
       "      <td>2512198</td>\n",
       "      <td>2509268.74</td>\n",
       "    </tr>\n",
       "    <tr>\n",
       "      <th>16</th>\n",
       "      <td>1967</td>\n",
       "      <td>2635778</td>\n",
       "      <td>2632757.66</td>\n",
       "    </tr>\n",
       "    <tr>\n",
       "      <th>17</th>\n",
       "      <td>1968</td>\n",
       "      <td>2765620</td>\n",
       "      <td>2760793.02</td>\n",
       "    </tr>\n",
       "    <tr>\n",
       "      <th>18</th>\n",
       "      <td>1969</td>\n",
       "      <td>2901475</td>\n",
       "      <td>2900091.92</td>\n",
       "    </tr>\n",
       "    <tr>\n",
       "      <th>19</th>\n",
       "      <td>1970</td>\n",
       "      <td>3044204</td>\n",
       "      <td>3040902.93</td>\n",
       "    </tr>\n",
       "    <tr>\n",
       "      <th>20</th>\n",
       "      <td>1971</td>\n",
       "      <td>3180089</td>\n",
       "      <td>3183472.67</td>\n",
       "    </tr>\n",
       "    <tr>\n",
       "      <th>21</th>\n",
       "      <td>1972</td>\n",
       "      <td>3278944</td>\n",
       "      <td>3282185.62</td>\n",
       "    </tr>\n",
       "    <tr>\n",
       "      <th>22</th>\n",
       "      <td>1973</td>\n",
       "      <td>3380588</td>\n",
       "      <td>3385300.03</td>\n",
       "    </tr>\n",
       "    <tr>\n",
       "      <th>23</th>\n",
       "      <td>1974</td>\n",
       "      <td>3485529</td>\n",
       "      <td>3495098.23</td>\n",
       "    </tr>\n",
       "    <tr>\n",
       "      <th>24</th>\n",
       "      <td>1975</td>\n",
       "      <td>3593728</td>\n",
       "      <td>3603589.69</td>\n",
       "    </tr>\n",
       "    <tr>\n",
       "      <th>25</th>\n",
       "      <td>1976</td>\n",
       "      <td>3705441</td>\n",
       "      <td>3709025.24</td>\n",
       "    </tr>\n",
       "    <tr>\n",
       "      <th>26</th>\n",
       "      <td>1977</td>\n",
       "      <td>3820305</td>\n",
       "      <td>3825524.33</td>\n",
       "    </tr>\n",
       "    <tr>\n",
       "      <th>27</th>\n",
       "      <td>1978</td>\n",
       "      <td>3938896</td>\n",
       "      <td>3949640.66</td>\n",
       "    </tr>\n",
       "    <tr>\n",
       "      <th>28</th>\n",
       "      <td>1979</td>\n",
       "      <td>4061169</td>\n",
       "      <td>4072249.42</td>\n",
       "    </tr>\n",
       "    <tr>\n",
       "      <th>29</th>\n",
       "      <td>1980</td>\n",
       "      <td>4187412</td>\n",
       "      <td>4191361.61</td>\n",
       "    </tr>\n",
       "  </tbody>\n",
       "</table>\n",
       "</div>"
      ],
      "text/plain": [
       "    Index  Actual Population  Predicted Population\n",
       "0    1951            1554324            1554175.31\n",
       "1    1952            1590811            1588446.39\n",
       "2    1953            1628050            1627861.17\n",
       "3    1954            1666214            1668272.41\n",
       "4    1955            1705272            1707323.90\n",
       "5    1956            1745302            1742574.52\n",
       "6    1957            1786158            1785856.76\n",
       "7    1958            1828028            1830153.42\n",
       "8    1959            1870880            1873046.40\n",
       "9    1960            1914797            1911657.04\n",
       "10   1961            1975964            1981196.73\n",
       "11   1962            2073166            2070580.19\n",
       "12   1963            2175149            2172469.96\n",
       "13   1964            2282300            2278128.09\n",
       "14   1965            2394412            2393048.19\n",
       "15   1966            2512198            2509268.74\n",
       "16   1967            2635778            2632757.66\n",
       "17   1968            2765620            2760793.02\n",
       "18   1969            2901475            2900091.92\n",
       "19   1970            3044204            3040902.93\n",
       "20   1971            3180089            3183472.67\n",
       "21   1972            3278944            3282185.62\n",
       "22   1973            3380588            3385300.03\n",
       "23   1974            3485529            3495098.23\n",
       "24   1975            3593728            3603589.69\n",
       "25   1976            3705441            3709025.24\n",
       "26   1977            3820305            3825524.33\n",
       "27   1978            3938896            3949640.66\n",
       "28   1979            4061169            4072249.42\n",
       "29   1980            4187412            4191361.61"
      ]
     },
     "execution_count": 47,
     "metadata": {},
     "output_type": "execute_result"
    }
   ],
   "source": [
    "graph"
   ]
  },
  {
   "cell_type": "code",
   "execution_count": 48,
   "id": "8f2a9d7d",
   "metadata": {},
   "outputs": [],
   "source": [
    "import pickle"
   ]
  },
  {
   "cell_type": "code",
   "execution_count": 49,
   "id": "d19ca6c4",
   "metadata": {},
   "outputs": [],
   "source": [
    "# filename = 'population_pred_model'\n",
    "# pickle.dump(model, open(filename, 'wb'))"
   ]
  },
  {
   "cell_type": "code",
   "execution_count": 50,
   "id": "4be393fc",
   "metadata": {},
   "outputs": [],
   "source": [
    "# loaded_model = pickle.load(open(filename, 'rb'))\n",
    "# loaded_model.predict(X_train)"
   ]
  },
  {
   "cell_type": "markdown",
   "id": "78ac0c0b",
   "metadata": {},
   "source": [
    "water need"
   ]
  },
  {
   "cell_type": "code",
   "execution_count": 51,
   "id": "05e1c555",
   "metadata": {},
   "outputs": [],
   "source": [
    "df['MCFT'] = \"\""
   ]
  },
  {
   "cell_type": "code",
   "execution_count": 52,
   "id": "6feaac37",
   "metadata": {},
   "outputs": [
    {
     "name": "stderr",
     "output_type": "stream",
     "text": [
      "<ipython-input-52-437b01054979>:2: SettingWithCopyWarning: \n",
      "A value is trying to be set on a copy of a slice from a DataFrame\n",
      "\n",
      "See the caveats in the documentation: https://pandas.pydata.org/pandas-docs/stable/user_guide/indexing.html#returning-a-view-versus-a-copy\n",
      "  df['MCFT'][i] = df['Population'] * 0.0000000352 * 135 * 365\n"
     ]
    }
   ],
   "source": [
    "for i in range(len(df)):\n",
    "    df['MCFT'][i] = df['Population'] * 0.0000000352 * 135 * 365"
   ]
  },
  {
   "cell_type": "code",
   "execution_count": 53,
   "id": "92212cd2",
   "metadata": {},
   "outputs": [],
   "source": [
    "df = df.round({'MCFT':2})"
   ]
  },
  {
   "cell_type": "code",
   "execution_count": 54,
   "id": "f74c0328",
   "metadata": {},
   "outputs": [
    {
     "data": {
      "text/html": [
       "<div>\n",
       "<style scoped>\n",
       "    .dataframe tbody tr th:only-of-type {\n",
       "        vertical-align: middle;\n",
       "    }\n",
       "\n",
       "    .dataframe tbody tr th {\n",
       "        vertical-align: top;\n",
       "    }\n",
       "\n",
       "    .dataframe thead th {\n",
       "        text-align: right;\n",
       "    }\n",
       "</style>\n",
       "<table border=\"1\" class=\"dataframe\">\n",
       "  <thead>\n",
       "    <tr style=\"text-align: right;\">\n",
       "      <th></th>\n",
       "      <th>Year</th>\n",
       "      <th>Population</th>\n",
       "      <th>GrowthRate</th>\n",
       "      <th>Growth</th>\n",
       "      <th>Location</th>\n",
       "      <th>Population_pred</th>\n",
       "      <th>MCFT</th>\n",
       "    </tr>\n",
       "  </thead>\n",
       "  <tbody>\n",
       "    <tr>\n",
       "      <th>0</th>\n",
       "      <td>1951</td>\n",
       "      <td>1554324</td>\n",
       "      <td>0.0423</td>\n",
       "      <td>63031</td>\n",
       "      <td>Chennai</td>\n",
       "      <td>1554175.31</td>\n",
       "      <td>0      2695.943892\n",
       "1      2759.229863\n",
       "2      2...</td>\n",
       "    </tr>\n",
       "    <tr>\n",
       "      <th>1</th>\n",
       "      <td>1952</td>\n",
       "      <td>1590811</td>\n",
       "      <td>0.0235</td>\n",
       "      <td>36487</td>\n",
       "      <td>Chennai</td>\n",
       "      <td>1588446.39</td>\n",
       "      <td>0      2695.943892\n",
       "1      2759.229863\n",
       "2      2...</td>\n",
       "    </tr>\n",
       "    <tr>\n",
       "      <th>2</th>\n",
       "      <td>1953</td>\n",
       "      <td>1628050</td>\n",
       "      <td>0.0234</td>\n",
       "      <td>37239</td>\n",
       "      <td>Chennai</td>\n",
       "      <td>1627861.17</td>\n",
       "      <td>0      2695.943892\n",
       "1      2759.229863\n",
       "2      2...</td>\n",
       "    </tr>\n",
       "  </tbody>\n",
       "</table>\n",
       "</div>"
      ],
      "text/plain": [
       "   Year  Population  GrowthRate  Growth Location  Population_pred  \\\n",
       "0  1951     1554324      0.0423   63031  Chennai       1554175.31   \n",
       "1  1952     1590811      0.0235   36487  Chennai       1588446.39   \n",
       "2  1953     1628050      0.0234   37239  Chennai       1627861.17   \n",
       "\n",
       "                                                MCFT  \n",
       "0  0      2695.943892\n",
       "1      2759.229863\n",
       "2      2...  \n",
       "1  0      2695.943892\n",
       "1      2759.229863\n",
       "2      2...  \n",
       "2  0      2695.943892\n",
       "1      2759.229863\n",
       "2      2...  "
      ]
     },
     "execution_count": 54,
     "metadata": {},
     "output_type": "execute_result"
    }
   ],
   "source": [
    "df.head(3)"
   ]
  },
  {
   "cell_type": "code",
   "execution_count": 55,
   "id": "d2c06764",
   "metadata": {},
   "outputs": [],
   "source": [
    "df.to_csv('water_requirement.csv', index=False)"
   ]
  },
  {
   "cell_type": "code",
   "execution_count": 64,
   "id": "cdcac8d2",
   "metadata": {},
   "outputs": [],
   "source": [
    "import matplotlib.pyplot as plt"
   ]
  },
  {
   "cell_type": "code",
   "execution_count": 69,
   "id": "e47165b3",
   "metadata": {},
   "outputs": [
    {
     "data": {
      "text/plain": [
       "<AxesSubplot:title={'center':'Autual Population'}>"
      ]
     },
     "execution_count": 69,
     "metadata": {},
     "output_type": "execute_result"
    },
    {
     "data": {
      "image/png": "[encoded data removed]",
      "text/plain": [
       "<Figure size 432x288 with 1 Axes>"
      ]
     },
     "metadata": {
      "needs_background": "light"
     },
     "output_type": "display_data"
    }
   ],
   "source": [
    "graph['Actual Population'].plot(kind='line', title='Autual Population')"
   ]
  },
  {
   "cell_type": "code",
   "execution_count": 68,
   "id": "4983becc",
   "metadata": {},
   "outputs": [
    {
     "data": {
      "text/plain": [
       "<AxesSubplot:title={'center':'Predicted Growth Population'}>"
      ]
     },
     "execution_count": 68,
     "metadata": {},
     "output_type": "execute_result"
    },
    {
     "data": {
      "image/png": "[encoded data removed]",
      "text/plain": [
       "<Figure size 432x288 with 1 Axes>"
      ]
     },
     "metadata": {
      "needs_background": "light"
     },
     "output_type": "display_data"
    }
   ],
   "source": [
    "graph['Predicted Population'].plot(kind='line', title='Predicted Growth Population')"
   ]
  },
  {
   "cell_type": "code",
   "execution_count": null,
   "id": "9cf4d7f5",
   "metadata": {},
   "outputs": [],
   "source": []
  }
 ],
 "metadata": {
  "kernelspec": {
   "display_name": "Python 3",
   "language": "python",
   "name": "python3"
  },
  "language_info": {
   "codemirror_mode": {
    "name": "ipython",
    "version": 3
   },
   "file_extension": ".py",
   "mimetype": "text/x-python",
   "name": "python",
   "nbconvert_exporter": "python",
   "pygments_lexer": "ipython3",
   "version": "3.8.8"
  }
 },
 "nbformat": 4,
 "nbformat_minor": 5
}
